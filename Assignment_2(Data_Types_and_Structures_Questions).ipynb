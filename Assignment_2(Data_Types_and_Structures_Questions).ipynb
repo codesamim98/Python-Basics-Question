{
  "nbformat": 4,
  "nbformat_minor": 0,
  "metadata": {
    "colab": {
      "provenance": []
    },
    "kernelspec": {
      "name": "python3",
      "display_name": "Python 3"
    },
    "language_info": {
      "name": "python"
    }
  },
  "cells": [
    {
      "cell_type": "code",
      "execution_count": null,
      "metadata": {
        "id": "-_fHdKUvh1NS"
      },
      "outputs": [],
      "source": []
    },
    {
      "cell_type": "markdown",
      "source": [
        "Q 1 .What are data structures, and why are they important ?\n",
        "    \n",
        "       --It is the way of storing and organizing data , so that it can be accessed easily and manupulate efficiently.\n",
        "\n",
        "  It is important due to the following reason :\n",
        "\n",
        "\n",
        "* Data structures are fundamental to writing optimized and scalable programe.\n",
        "*   Efficiency- Proper data structures optimize time and space  complexity.\n",
        "*   It makes the code readable and maintainable.\n",
        "*   Widelyu used in real world applications.\n",
        "\n",
        "\n",
        "\n",
        " Q 2 . Explain the difference between mutable and immutable data types with   example ?\n",
        "\n",
        "        -- Mutable: Can be changed after creation (example- list, dict, set)\n",
        "        -- mmutable: Cannot be changed—modifications create a new object (example- int, str, tuple).\n",
        "\n",
        "        * Mutable objects are flexible but require careful handling to avoid unintended side effects.\n",
        "\n",
        "        * Immutable objects are safer (thread-safe, hashable) but may be less memory-efficient for frequent changes.\n",
        "\n",
        "\n",
        "\n",
        "Q 3 . What are the main differences between lists and tuples in Python ?\n",
        "\n",
        "      - The main difference are :\n",
        "\n",
        "   ▶ Mutability\n",
        "\n",
        "   List: Mutable (can modify after creation).\n",
        "\n",
        "        Tuple: Immutable (cannot modify after creation).\n",
        "\n",
        "   ▶ Syntax\n",
        "\n",
        "     List: [1, 2, 3]\n",
        "\n",
        "     Tuple: (1, 2, 3)\n",
        "\n",
        "  ▶ Performance\n",
        "\n",
        "  Tuples are faster and use less memory (fixed size).\n",
        "\n",
        "   Lists are slower but flexible (dynamic resizing).\n",
        "\n",
        "  ▶ Use Cases\n",
        "\n",
        "  Use Lists for changing data (e.g., dynamic collections).\n",
        "\n",
        "  Use Tuples for fixed data (e.g., constants, dictionary keys).\n",
        "\n",
        "\n",
        "\n",
        "Q 4 . Describe how dictionaries store data ?\n",
        "\n",
        "      -- A dictionary in Python stores data as key-value pairs. Each key is unique and points to a value. It works like a real-life dictionary: you look up a word (key) to get its meaning (value). Python uses a hashing system behind the scenes to find values quickly, so looking things up is fast. Keys must be immutable (like strings or numbers), and values can be anything.\n",
        "\n",
        "\n",
        "Q 5 . Why might you use a set instead of a list in Python ?\n",
        "\n",
        "      -- We use a set instead of a list when we want to store unique items only and dont care about the order. Sets are great for things like removing duplicates or checking if something exists quickly. They are also faster than lists when it comes to searching for values.\n",
        "\n",
        "\n",
        "Q 6 . What is a string in Python, and how is it different from a list ?\n",
        "\n",
        "      -- A string in Python is a bunch of letters or characters, like \"hello\" or \"abc123\". It's used for text.\n",
        "\n",
        "      A list is a collection of items, like [1, 2, 3] or [\"a\", \"b\", \"c\"].\n",
        "\n",
        " ▶  Main differences:\n",
        "\n",
        " * String is only for text.\n",
        "\n",
        " * List can hold anything (numbers, text, even other lists).\n",
        "\n",
        " * Strings can not  be changed once made.\n",
        "\n",
        " * Lists can be changed (you can add, remove, or update items).\n",
        "\n",
        " * Strings use quotes (\"hi\"), lists use square brackets ([\"h\", \"i\"]).\n",
        "\n",
        "\n",
        "\n",
        " Q 7 . How do tuples ensure data integrity in Python ?\n",
        "\n",
        "  -- Tuples ensure data integrity in Python because they are immutable — once a tuple is created, its values cannot be changed, added to, or removed.\n",
        "\n",
        "\n",
        "  * The data stays fixed and safe from accidental changes.\n",
        "\n",
        "  * It is useful when you want to store constant or protected values, like coordinates, dates, or configuration settings.\n",
        "\n",
        "\n",
        "Q 8 . What is a hash table, and how does it relate to dictionaries in Python ?\n",
        "\n",
        "      -- hash table is a way of storing data that makes looking things up really fast. It does this by turning a key (like a name) into a number using a process called hashing, then using that number to find where the data is stored.\n",
        "\n",
        "      In Python, dictionaries use hash tables behind the scenes. When you create a dictionary and add a key-value pair, Python hashes the key to decide where to put the value. Later, when you ask for that key, it uses the hash again to quickly find the value.\n",
        "\n",
        "\n",
        "Q 9 . Can lists contain different data types in Python ?\n",
        "\n",
        "\n",
        "-- Yes, lists can contain different data types in Python. A list can hold numbers, strings, booleans, other lists—basically anything.\n",
        "\n",
        "\n",
        "  mixed_list = mixed_list = [42, \"hello\", True, 3.14, [1, 2, 3]]\n",
        "      \n",
        "\n",
        "\n",
        "Q 10 . Explain why strings are immutable in Python.\n",
        "\n",
        "  -- trings are immutable in Python so they stay safe, can be reused efficiently, and work properly as dictionary keys.\n",
        "\n",
        "\n",
        "Q 11 .What advantages do dictionaries offer over lists for certain tasks ?\n",
        "\n",
        "  -- Dictionaries are better than lists when you want to quickly find something using a name or label instead of remembering its position. They're easier to read and more organized when dealing with data that has clear labels, like a person's name, age, or address.\n",
        "\n",
        "\n",
        "Q 12 .Describe a scenario where using a tuple would be preferable over a list.\n",
        "\n",
        "\n",
        "  -- We use a tuple instead of a list when the data should stay the same. For example, if you're saving a person's birth date:\n",
        "\n",
        "\n",
        "        Birth_date = (1995, 6, 18)\n",
        "   A birth date does not change, so using a tuple helps keep it safe and shows that the values are fixed.\n",
        "\n",
        "\n",
        "Q 13 . How do sets handle duplicate values in Python ?\n",
        "\n",
        "  -- In Python, sets automatically remove duplicate values. If you add the same item more than once, the set keeps only one copy.\n",
        "\n",
        "  \n",
        "Q 14 . How does the “in” keyword work differently for lists and dictionaries ?\n",
        "\n",
        "  -- The in keyword in Python is used to check for membership, but it behaves differently for lists and dictionaries.\n",
        "\n",
        "   In lists, in checks whether a specific value exists in the list.\n",
        "\n",
        "  Example: \"apple\" in [\"apple\", \"banana\"] returns True.\n",
        "\n",
        "  In dictionaries, in checks whether a specific key exists in the dictionary, not the value.\n",
        "\n",
        "  Example: \"name\" in {\"name\": \"samim\", \"age\": 25} returns True, but \"samim\" in {...} returns False because it is a value, not a key.\n",
        "\n",
        "\n",
        "\n",
        "Q 15 . Can you modify the elements of a tuple? Explain why or why not ?\n",
        "\n",
        "\n",
        "  -- No, we can not change elements of a tuple because tuples are immutable once made, they stay the same. This keeps the data safe and makes Python run more efficiently.\n",
        "\n",
        "\n",
        "Q 16 . What is a nested dictionary, and give an example of its use case ?\n",
        "\n",
        "  -- A nested dictionary is just a dictionary inside another dictionary. It is useful when you want to organize detailed information clearly.\n",
        "\n",
        "     Example :\n",
        "     students = {\n",
        "  \"Alice\": {\"age\": 20, \"grade\": \"A\"},\n",
        "  \"Bob\": {\"age\": 22, \"grade\": \"B\"}\n",
        " }\n",
        "Here, each student has their own dictionary of details.\n",
        "\n",
        "\n",
        "\n",
        "Q 17 .Describe the time complexity of accessing elements in a dictionary ?\n",
        "\n",
        "  -- Accessing elements in a dictionary is very fast, with a time complexity of O(1). This means it takes the same amount of time no matter how many items are in the dictionary. Python does this by using a hash table, which lets it quickly find the value using the key.\n",
        "\n",
        "\n",
        "Q 18 . In what situations are lists preferred over dictionaries ?\n",
        "\n",
        "  -- We use a list instead of a dictionary when we just need to store things in order and dont need labels or names for each item. Lists are great when you want to go through items one by one, or work with simple, ordered data like numbers, names, or tasks.\n",
        "\n",
        "\n",
        "Q 19. Why are dictionaries considered unordered, and how does that affect data retrieval ?\n",
        "\n",
        "  -- Dictionaries are considered unordered because they focus on key-based access, not the order of items. This means We get values by their key, not by position, and we shouldn't rely on the order.\n",
        "\n",
        "\n",
        "Q 20 . Explain the difference between a list and a dictionary in terms of data retrieval ?\n",
        "\n",
        "\n",
        "  -- The difference between a list and a dictionary is in how we find things:\n",
        "\n",
        "  In a list, you get items by their position (like the first, second, etc.).\n",
        "\n",
        "  In a dictionary, you get items using a key (like a label or name).\n",
        "\n",
        "\n",
        "\n",
        "\n",
        "\n",
        "\n",
        "\n",
        "\n",
        "\n",
        "\n",
        "\n",
        "\n",
        "\n",
        "\n",
        "    \n",
        "\n",
        "\n",
        "\n",
        "\n",
        "\n",
        "\n",
        "\n",
        "\n",
        "\n",
        "\n",
        "\n",
        "\n",
        "\n",
        "\n",
        "\n",
        "\n",
        "\n",
        "\n",
        "\n",
        "\n",
        "\n",
        "\n",
        "\n"
      ],
      "metadata": {
        "id": "1MVdAmtfj6AL"
      }
    },
    {
      "cell_type": "code",
      "source": [
        "# 1 . Write a code to create a string with your name and print it .\n",
        "\n",
        "my_name = \"Samim Kamal\"\n",
        "print(my_name)"
      ],
      "metadata": {
        "colab": {
          "base_uri": "https://localhost:8080/"
        },
        "id": "HL25RE_e8oRI",
        "outputId": "6391a0f6-ae65-4819-a7d9-05a5f171c15c"
      },
      "execution_count": 1,
      "outputs": [
        {
          "output_type": "stream",
          "name": "stdout",
          "text": [
            "Samim Kamal\n"
          ]
        }
      ]
    },
    {
      "cell_type": "code",
      "source": [
        "# 2 .Write a code to find the length of the string \"Hello World\"\n",
        "text = \"Hello World\"\n",
        "len(text)"
      ],
      "metadata": {
        "colab": {
          "base_uri": "https://localhost:8080/"
        },
        "id": "kT-ZUV_YMhfk",
        "outputId": "8f3a3881-5cb1-4679-8a2d-f8ad093a59c7"
      },
      "execution_count": 2,
      "outputs": [
        {
          "output_type": "execute_result",
          "data": {
            "text/plain": [
              "11"
            ]
          },
          "metadata": {},
          "execution_count": 2
        }
      ]
    },
    {
      "cell_type": "markdown",
      "source": [],
      "metadata": {
        "id": "WsI89MuvnS6V"
      }
    },
    {
      "cell_type": "code",
      "source": [
        "# 3 . Write a code to slice the first 3 characters from the string \"Python Programming\"\n",
        "text = \"Python Programming\"\n",
        "sliced_text = text[:3]\n",
        "print(\"First 3 characters:\", sliced_text)"
      ],
      "metadata": {
        "colab": {
          "base_uri": "https://localhost:8080/"
        },
        "id": "C4rR16RuNl9Y",
        "outputId": "09e10dca-0d6c-48ed-ff54-1369456f460f"
      },
      "execution_count": 3,
      "outputs": [
        {
          "output_type": "stream",
          "name": "stdout",
          "text": [
            "First 3 characters: Pyt\n"
          ]
        }
      ]
    },
    {
      "cell_type": "markdown",
      "source": [],
      "metadata": {
        "id": "P_4RaeH5j4lM"
      }
    },
    {
      "cell_type": "code",
      "source": [
        "# 4 .Write a code to convert the string \"hello\" to uppercase\n",
        "text = \"hello\"\n",
        "uppercase_text = text.upper()\n",
        "print(\"Uppercase:\", uppercase_text)\n"
      ],
      "metadata": {
        "colab": {
          "base_uri": "https://localhost:8080/"
        },
        "id": "xZESR4OuN67V",
        "outputId": "0bfcc7cd-c714-415d-8d48-5f7d54c13af3"
      },
      "execution_count": 7,
      "outputs": [
        {
          "output_type": "stream",
          "name": "stdout",
          "text": [
            "Uppercase: HELLO\n"
          ]
        }
      ]
    },
    {
      "cell_type": "code",
      "source": [
        "# 5 .Write a code to replace the word \"apple\" with \"orange\" in the string \"I like apple\"\n",
        "text = \"I like apple\"\n",
        "new_text = text.replace(\"apple\", \"orange\")\n",
        "print(\"Updated string:\", new_text)"
      ],
      "metadata": {
        "colab": {
          "base_uri": "https://localhost:8080/"
        },
        "id": "Cb0gz0-LOGs_",
        "outputId": "c6f79343-de92-4b4e-81e2-6d6288cacdfc"
      },
      "execution_count": 8,
      "outputs": [
        {
          "output_type": "stream",
          "name": "stdout",
          "text": [
            "Updated string: I like orange\n"
          ]
        }
      ]
    },
    {
      "cell_type": "code",
      "source": [
        "# 6 .Write a code to create a list with numbers 1 to 5 and print it\n",
        "numbers = [1, 2, 3, 4, 5]\n",
        "print(\"List of numbers:\", numbers)"
      ],
      "metadata": {
        "colab": {
          "base_uri": "https://localhost:8080/"
        },
        "id": "qu2M7kcGOt_Q",
        "outputId": "88a26162-a953-427d-968e-65640c6b043b"
      },
      "execution_count": 9,
      "outputs": [
        {
          "output_type": "stream",
          "name": "stdout",
          "text": [
            "List of numbers: [1, 2, 3, 4, 5]\n"
          ]
        }
      ]
    },
    {
      "cell_type": "code",
      "source": [
        "# 7 .Write a code to append the number 10 to the list [1, 2, 3, 4]\n",
        "numbers = [1, 2, 3, 4]\n",
        "numbers.append(10)\n",
        "print(\"Updated list:\", numbers)"
      ],
      "metadata": {
        "colab": {
          "base_uri": "https://localhost:8080/"
        },
        "id": "1VkCaEm6PAHv",
        "outputId": "1674d11e-26da-4ac0-9f72-b96f1a1e53eb"
      },
      "execution_count": 10,
      "outputs": [
        {
          "output_type": "stream",
          "name": "stdout",
          "text": [
            "Updated list: [1, 2, 3, 4, 10]\n"
          ]
        }
      ]
    },
    {
      "cell_type": "code",
      "source": [
        "# 8.Write a code to remove the number 3 from the list [1, 2, 3, 4, 5]\n",
        "numbers = [1, 2, 3, 4, 5]\n",
        "numbers.remove(3)\n",
        "print(\"Updated list:\", numbers)"
      ],
      "metadata": {
        "colab": {
          "base_uri": "https://localhost:8080/"
        },
        "id": "8QpyFt4vPN7v",
        "outputId": "f2af0c39-a6a8-48dd-e3fe-37bb6c727a49"
      },
      "execution_count": 11,
      "outputs": [
        {
          "output_type": "stream",
          "name": "stdout",
          "text": [
            "Updated list: [1, 2, 4, 5]\n"
          ]
        }
      ]
    },
    {
      "cell_type": "code",
      "source": [
        "# 9. Write a code to access the second element in the list ['a', 'b', 'c', 'd']\n",
        "letters = ['a', 'b', 'c', 'd']\n",
        "second_element = letters[1]\n",
        "print(\"Second element:\", second_element)"
      ],
      "metadata": {
        "colab": {
          "base_uri": "https://localhost:8080/"
        },
        "id": "PlW63GptPa3e",
        "outputId": "7928d56a-d06d-4c89-d5c8-c1d32acfd990"
      },
      "execution_count": 12,
      "outputs": [
        {
          "output_type": "stream",
          "name": "stdout",
          "text": [
            "Second element: b\n"
          ]
        }
      ]
    },
    {
      "cell_type": "code",
      "source": [
        "# 10.Write a code to reverse the list [10, 20, 30, 40, 50]\n",
        "numbers = [10, 20, 30, 40, 50]\n",
        "numbers.reverse()\n",
        "print(\"Reversed list:\", numbers)\n"
      ],
      "metadata": {
        "colab": {
          "base_uri": "https://localhost:8080/"
        },
        "id": "IgwM4ECUPmfa",
        "outputId": "e3070c2a-e66c-4a93-e993-f6b59dea209b"
      },
      "execution_count": 13,
      "outputs": [
        {
          "output_type": "stream",
          "name": "stdout",
          "text": [
            "Reversed list: [50, 40, 30, 20, 10]\n"
          ]
        }
      ]
    },
    {
      "cell_type": "code",
      "source": [
        "# 11.Write a code to create a tuple with the elements 100, 200, 300 and print it\n",
        "my_tuple = 100, 200, 300\n",
        "print(\"Tuple:\", my_tuple)\n"
      ],
      "metadata": {
        "colab": {
          "base_uri": "https://localhost:8080/"
        },
        "id": "KhYOJb9qP0To",
        "outputId": "ea62a21e-239d-45f8-b606-17d09bf63ac0"
      },
      "execution_count": 15,
      "outputs": [
        {
          "output_type": "stream",
          "name": "stdout",
          "text": [
            "Tuple: (100, 200, 300)\n"
          ]
        }
      ]
    },
    {
      "cell_type": "code",
      "source": [
        "# 12.Write a code to access the second-to-last element of the tuple ('red', 'green', 'blue', 'yellow').\n",
        "colors = ('red', 'green', 'blue', 'yellow')\n",
        "second_to_last = colors[2]\n",
        "print(\"Second-to-last element:\", second_to_last)"
      ],
      "metadata": {
        "colab": {
          "base_uri": "https://localhost:8080/"
        },
        "id": "onnuJ84ZQK9J",
        "outputId": "502fa73d-d57f-4332-af0c-9d4e6c112ceb"
      },
      "execution_count": 16,
      "outputs": [
        {
          "output_type": "stream",
          "name": "stdout",
          "text": [
            "Second-to-last element: blue\n"
          ]
        }
      ]
    },
    {
      "cell_type": "code",
      "source": [
        "# 13.Write a code to find the minimum number in the tuple (10, 20, 5, 15).\n",
        "numbers = (10, 20, 5, 15)\n",
        "minimum = min(numbers)\n",
        "print(\"Minimum number:\", minimum)"
      ],
      "metadata": {
        "colab": {
          "base_uri": "https://localhost:8080/"
        },
        "id": "G3A1U-TDQioS",
        "outputId": "4db7fc73-878a-4824-ecf8-697c9fa0377e"
      },
      "execution_count": 17,
      "outputs": [
        {
          "output_type": "stream",
          "name": "stdout",
          "text": [
            "Minimum number: 5\n"
          ]
        }
      ]
    },
    {
      "cell_type": "code",
      "source": [
        "# 14 .Write a code to find the index of the element \"cat\" in the tuple ('dog', 'cat', 'rabbit').\n",
        "animals = ('dog', 'cat', 'rabbit')\n",
        "index_of_cat = animals.index('cat')\n",
        "print(\"Index of 'cat':\", index_of_cat)"
      ],
      "metadata": {
        "colab": {
          "base_uri": "https://localhost:8080/"
        },
        "id": "K89ct9RnQw68",
        "outputId": "460a5d66-8b8a-4c53-fff9-4e2f7ce02112"
      },
      "execution_count": 18,
      "outputs": [
        {
          "output_type": "stream",
          "name": "stdout",
          "text": [
            "Index of 'cat': 1\n"
          ]
        }
      ]
    },
    {
      "cell_type": "code",
      "source": [
        "# 15.Write a code to create a tuple containing three different fruits and check if \"kiwi\" is in it\n",
        "fruits = (\"apple\", \"banana\", \"orange\")\n",
        "if \"kiwi\" in fruits:\n",
        "    print(\"Kiwi is in the tuple.\")\n",
        "else:\n",
        "    print(\"Kiwi is not in the tuple.\")"
      ],
      "metadata": {
        "colab": {
          "base_uri": "https://localhost:8080/"
        },
        "id": "PfX0LoOYRAje",
        "outputId": "813c3ebd-74c0-4cc2-9ffd-7c5f6873ee6c"
      },
      "execution_count": 19,
      "outputs": [
        {
          "output_type": "stream",
          "name": "stdout",
          "text": [
            "Kiwi is not in the tuple.\n"
          ]
        }
      ]
    },
    {
      "cell_type": "code",
      "source": [
        "# 16. Write a code to create a set with the elements 'a', 'b', 'c' and print it.\n",
        "my_set = {'a', 'b', 'c'}\n",
        "print(\"Set:\", my_set)"
      ],
      "metadata": {
        "colab": {
          "base_uri": "https://localhost:8080/"
        },
        "id": "nLvCcetFRWiG",
        "outputId": "130a915d-4fc4-4393-f207-d00c33c29f8c"
      },
      "execution_count": 22,
      "outputs": [
        {
          "output_type": "stream",
          "name": "stdout",
          "text": [
            "Set: {'a', 'c', 'b'}\n"
          ]
        }
      ]
    },
    {
      "cell_type": "code",
      "source": [
        "# 17. Write a code to clear all elements from the set {1, 2, 3, 4, 5}.\n",
        "my_set = {1, 2, 3, 4, 5}\n",
        "my_set.clear()\n",
        "print(\"Cleared set:\", my_set)"
      ],
      "metadata": {
        "colab": {
          "base_uri": "https://localhost:8080/"
        },
        "id": "y-APxt0pRtME",
        "outputId": "a5a50060-4951-45ce-af36-054859a2e345"
      },
      "execution_count": 23,
      "outputs": [
        {
          "output_type": "stream",
          "name": "stdout",
          "text": [
            "Cleared set: set()\n"
          ]
        }
      ]
    },
    {
      "cell_type": "code",
      "source": [
        "# 18.  Write a code to remove the element 4 from the set {1, 2, 3, 4}\n",
        "my_set = {1, 2, 3, 4}\n",
        "my_set.remove(4)\n",
        "print(my_set)"
      ],
      "metadata": {
        "colab": {
          "base_uri": "https://localhost:8080/"
        },
        "id": "X_aZGEQrSkyC",
        "outputId": "1ee9bede-830e-47b9-8998-1a5ab0aa6eab"
      },
      "execution_count": 25,
      "outputs": [
        {
          "output_type": "stream",
          "name": "stdout",
          "text": [
            "{1, 2, 3}\n"
          ]
        }
      ]
    },
    {
      "cell_type": "code",
      "source": [
        "# 19.  Write a code to find the union of two sets {1, 2, 3} and {3, 4, 5}.\n",
        "\n",
        "set1 = {1, 2, 3}\n",
        "set2 = {3, 4, 5}\n",
        "\n",
        "union_set = set1.union(set2)\n",
        "\n",
        "print(union_set)"
      ],
      "metadata": {
        "colab": {
          "base_uri": "https://localhost:8080/"
        },
        "id": "9XQNkL4pTEln",
        "outputId": "97b192de-0819-4a01-adc2-6d5e4f631216"
      },
      "execution_count": 26,
      "outputs": [
        {
          "output_type": "stream",
          "name": "stdout",
          "text": [
            "{1, 2, 3, 4, 5}\n"
          ]
        }
      ]
    },
    {
      "cell_type": "code",
      "source": [
        "# 20.Write a code to find the intersection of two sets {1, 2, 3} and {2, 3, 4}.\n",
        "set1 = {1, 2, 3}\n",
        "set2 = {2, 3, 4}\n",
        "\n",
        "\n",
        "intersection_set = set1.intersection(set2)\n",
        "\n",
        "print(intersection_set)\n"
      ],
      "metadata": {
        "colab": {
          "base_uri": "https://localhost:8080/"
        },
        "id": "excfkdo5TmoQ",
        "outputId": "66c9da01-3798-4920-c42b-04f5b0447b22"
      },
      "execution_count": 27,
      "outputs": [
        {
          "output_type": "stream",
          "name": "stdout",
          "text": [
            "{2, 3}\n"
          ]
        }
      ]
    },
    {
      "cell_type": "code",
      "source": [
        "# 21.Write a code to create a dictionary with the keys \"name\", \"age\", and \"city\", and print it\n",
        "person = {\"name\": \"Alice\",\"age\": 25,\"city\": \"New York\"}\n",
        "print(\"Dictionary:\", person)"
      ],
      "metadata": {
        "colab": {
          "base_uri": "https://localhost:8080/"
        },
        "id": "4AE_g5_iUFmv",
        "outputId": "a830bbcf-261f-46f7-d14c-df361f802151"
      },
      "execution_count": 28,
      "outputs": [
        {
          "output_type": "stream",
          "name": "stdout",
          "text": [
            "Dictionary: {'name': 'Alice', 'age': 25, 'city': 'New York'}\n"
          ]
        }
      ]
    },
    {
      "cell_type": "code",
      "source": [
        "# 22.Write a code to add a new key-value pair \"country\": \"USA\" to the dictionary {'name': 'John', 'age': 25}.\n",
        "person = {'name': 'John', 'age': 25}\n",
        "\n",
        "# Add new key-value pair\n",
        "person['country'] = 'USA'\n",
        "\n",
        "print(person)"
      ],
      "metadata": {
        "colab": {
          "base_uri": "https://localhost:8080/"
        },
        "id": "2bO3_0mSUeWt",
        "outputId": "1b9b35c1-6491-4bcf-d9b6-67ec4c04c0aa"
      },
      "execution_count": 29,
      "outputs": [
        {
          "output_type": "stream",
          "name": "stdout",
          "text": [
            "{'name': 'John', 'age': 25, 'country': 'USA'}\n"
          ]
        }
      ]
    },
    {
      "cell_type": "code",
      "source": [
        "# 23.Write a code to access the value associated with the key \"name\" in the dictionary {'name': 'Alice', 'age': 30}.\n",
        "person = {'name': 'Alice', 'age': 30}\n",
        "\n",
        "# Access the value for key \"name\"\n",
        "name_value = person['name']\n",
        "\n",
        "print(name_value)"
      ],
      "metadata": {
        "colab": {
          "base_uri": "https://localhost:8080/"
        },
        "id": "UiIcxtnrU-7h",
        "outputId": "ab60c03c-aadb-4ce4-87d9-793d71ad21ce"
      },
      "execution_count": 30,
      "outputs": [
        {
          "output_type": "stream",
          "name": "stdout",
          "text": [
            "Alice\n"
          ]
        }
      ]
    },
    {
      "cell_type": "code",
      "source": [
        "# 24.Write a code to remove the key \"age\" from the dictionary {'name': 'Bob', 'age': 22, 'city': 'New York'}.\n",
        "person = {'name': 'Bob', 'age': 22, 'city': 'New York'}\n",
        "\n",
        "# Remove and get the value of \"age\"\n",
        "removed_age = person.pop('age')\n",
        "\n",
        "print(person)\n",
        "print(removed_age)"
      ],
      "metadata": {
        "colab": {
          "base_uri": "https://localhost:8080/"
        },
        "id": "XIx4q0l7Vb0P",
        "outputId": "088c766c-4d62-4898-9f2c-5eb076ddc21c"
      },
      "execution_count": 31,
      "outputs": [
        {
          "output_type": "stream",
          "name": "stdout",
          "text": [
            "{'name': 'Bob', 'city': 'New York'}\n",
            "22\n"
          ]
        }
      ]
    },
    {
      "cell_type": "code",
      "source": [
        "# 25. Write a code to check if the key \"city\" exists in the dictionary {'name': 'Alice', 'city': 'Paris'}.\n",
        "person = {'name': 'Alice', 'city': 'Paris'}\n",
        "\n",
        "# Check if 'city' exists in the dictionary\n",
        "if 'city' in person:\n",
        "    print(\"Key 'city' exists!\")\n",
        "else:\n",
        "    print(\"Key 'city' does not exist.\")"
      ],
      "metadata": {
        "colab": {
          "base_uri": "https://localhost:8080/"
        },
        "id": "CM8kU4KTWCY8",
        "outputId": "a7314ac4-216a-43e5-d440-56bec28de730"
      },
      "execution_count": 33,
      "outputs": [
        {
          "output_type": "stream",
          "name": "stdout",
          "text": [
            "Key 'city' exists!\n"
          ]
        }
      ]
    },
    {
      "cell_type": "code",
      "source": [
        "# 26.Write a code to create a list, a tuple, and a dictionary, and print them all.\n",
        "my_list = [1, 2, 3, 'apple', 'banana']\n",
        "\n",
        "my_tuple = (4, 5, 6, 'orange', 'grape')\n",
        "\n",
        "my_dict = {'name': 'Alice', 'age': 25, 'city': 'New York'}\n",
        "\n",
        "print(\"List:\", my_list)\n",
        "print(\"Tuple:\", my_tuple)\n",
        "print(\"Dictionary:\", my_dict)"
      ],
      "metadata": {
        "colab": {
          "base_uri": "https://localhost:8080/"
        },
        "id": "wWpKEoW1Weec",
        "outputId": "f9aa4e69-7162-4f9f-c6db-c772eec55f13"
      },
      "execution_count": 36,
      "outputs": [
        {
          "output_type": "stream",
          "name": "stdout",
          "text": [
            "List: [1, 2, 3, 'apple', 'banana']\n",
            "Tuple: (4, 5, 6, 'orange', 'grape')\n",
            "Dictionary: {'name': 'Alice', 'age': 25, 'city': 'New York'}\n"
          ]
        }
      ]
    },
    {
      "cell_type": "code",
      "source": [
        "# 27.Write a code to create a list of 5 random numbers between 1 and 100, sort it in ascending order, and print theresult.(replaced)\n",
        "\n",
        "import random\n",
        "\n",
        "# Step 1: Create an empty list to store our numbers\n",
        "numbers = []\n",
        "\n",
        "# Step 2: Add 5 random numbers to the list\n",
        "for i in range(5):\n",
        "    new_number = random.randint(1, 100)  # Gets a random number between 1-100\n",
        "    numbers.append(new_number)  # Adds it to our list\n",
        "\n",
        "\n",
        "numbers.sort()  # Arranges numbers from smallest to largest\n",
        "\n",
        "print(\"My sorted random numbers:\", numbers)"
      ],
      "metadata": {
        "colab": {
          "base_uri": "https://localhost:8080/"
        },
        "id": "y11ZAZ7gXGx2",
        "outputId": "fbac5fc8-9f3e-465d-8bd8-e2023537bd0a"
      },
      "execution_count": 42,
      "outputs": [
        {
          "output_type": "stream",
          "name": "stdout",
          "text": [
            "My sorted random numbers: [27, 63, 76, 79, 88]\n"
          ]
        }
      ]
    },
    {
      "cell_type": "code",
      "source": [
        "# 28. Write a code to create a list with strings and print the element at the third index.\n",
        "my_list = [\"apple\", \"banana\", \"cherry\", \"samim\", \"elderberry\"]\n",
        "\n",
        "\n",
        "print(\"The element at index 3 is:\", my_list[3])"
      ],
      "metadata": {
        "colab": {
          "base_uri": "https://localhost:8080/"
        },
        "id": "1_iOpI8kYvbW",
        "outputId": "a363b61a-047a-4ba7-c08d-cd94fc2b4230"
      },
      "execution_count": 43,
      "outputs": [
        {
          "output_type": "stream",
          "name": "stdout",
          "text": [
            "The element at index 3 is: samim\n"
          ]
        }
      ]
    },
    {
      "cell_type": "code",
      "source": [
        "# 29.Write a code to combine two dictionaries into one and print the result.\n",
        "dict1 = {'a': 1, 'b': 2}\n",
        "dict2 = {'c': 3, 'd': 4}\n",
        "\n",
        "# Combine them\n",
        "combined = {**dict1, **dict2}\n",
        "\n",
        "# Print the result\n",
        "print(combined)"
      ],
      "metadata": {
        "colab": {
          "base_uri": "https://localhost:8080/"
        },
        "id": "PryynWAzbRxD",
        "outputId": "130c5a79-7e70-4dbb-981d-edb98759fe31"
      },
      "execution_count": 45,
      "outputs": [
        {
          "output_type": "stream",
          "name": "stdout",
          "text": [
            "{'a': 1, 'b': 2, 'c': 3, 'd': 4}\n"
          ]
        }
      ]
    },
    {
      "cell_type": "code",
      "source": [
        "# 30. Write a code to convert a list of strings into a set.\n",
        "# List of strings\n",
        "string_list = ['apple', 'banana', 'apple', 'cherry']\n",
        "\n",
        "# Convert list to set\n",
        "string_set = set(string_list)\n",
        "\n",
        "print(string_set)"
      ],
      "metadata": {
        "colab": {
          "base_uri": "https://localhost:8080/"
        },
        "id": "WyYEj24Sbq60",
        "outputId": "cbc45480-e568-4a60-f973-02c2dd9f7f05"
      },
      "execution_count": 46,
      "outputs": [
        {
          "output_type": "stream",
          "name": "stdout",
          "text": [
            "{'banana', 'apple', 'cherry'}\n"
          ]
        }
      ]
    },
    {
      "cell_type": "code",
      "source": [],
      "metadata": {
        "id": "qlYk1bLMcdD6"
      },
      "execution_count": null,
      "outputs": []
    }
  ]
}