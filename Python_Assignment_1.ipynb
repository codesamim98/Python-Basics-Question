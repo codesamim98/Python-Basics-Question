{
  "nbformat": 4,
  "nbformat_minor": 0,
  "metadata": {
    "colab": {
      "provenance": []
    },
    "kernelspec": {
      "name": "python3",
      "display_name": "Python 3"
    },
    "language_info": {
      "name": "python"
    }
  },
  "cells": [
    {
      "cell_type": "code",
      "execution_count": null,
      "metadata": {
        "id": "p8y1c6-wyEzx"
      },
      "outputs": [],
      "source": []
    },
    {
      "cell_type": "markdown",
      "source": [],
      "metadata": {
        "id": "Ii1s0M5roCu7"
      }
    },
    {
      "cell_type": "markdown",
      "source": [
        "## **Python Basics**\n",
        "\n",
        "Q1. What is Python, and why is it popular ?\n",
        "\n",
        "    - Python is a high-level programming language known for its simplicity, readability, and versatility .\n",
        "\n",
        "    - It is popular due to the following reasons :\n",
        "       \n",
        "       * Ease of learning .\n",
        "       * Hence it is a open source platform , python has huge active     \n",
        "         community, so it is a continously growing language.\n",
        "\n",
        "       * It is a versaatile language with huge libraries.\n",
        "       * HGgh use of python in data science industry and software devolopment.\n",
        "       \n",
        "Q2. What is an interpreter in Python ?\n",
        "  \n",
        "    - An interpreter is a program that reads and executes Python code line by   line.It translate human readable language into machine code that our  computer understands and then runs it.\n",
        "\n",
        "Q3. What are pre-defined keywords in Python ?\n",
        "\n",
        "    - Predefined key-words are reserved memory words which have specical       meaning and hold special purposes.\n",
        "    Example of keywords are if, else , elif , for etc .\n",
        "\n",
        "\n",
        "Q4. Can keywords be used as variable names ?\n",
        "\n",
        "    - No, keywords cannot be used as variable names in Python.Since keywords are reserved words it has special meaning.\n",
        "\n",
        "\n",
        "Q5. What is mutability in Python ?\n",
        "\n",
        "    - Mutability is simply refers an object can be changed after it is created.\n",
        "      Example of mutability is List .\n",
        "\n",
        "Q6 . Why are lists mutable, but tuples are immutable ?\n",
        "\n",
        "        - As list are designed to hold collections of data , they are used in scenarios where elements are frequently updated.\n",
        "\n",
        "        - As we define tuple using parentheses () , and it is intended for fixed collections of items , thats why it is immutable.\n",
        "\n",
        "Q7 . What is the difference between “==” and “is” operators in Python ?\n",
        "\n",
        "      - In Python, == and is are not the same — they are used for different purposes:\n",
        "              \n",
        "     *  == (Equality Operator) Checks if values are equal.Compares the    contentsof two variables\n",
        "     *  is (Identity Operator) Checks if two variables refer to the same   object in memory. Compares object identity, not content.\n",
        "\n",
        "\n",
        "Q8 . What are logical operators in Python ?\n",
        "\n",
        "    - Logical operators are used to combine conditional statements in Python. Here are the three main logical operators:\n",
        "\n",
        "    1. AND (and): Returns True if both conditions are true.\n",
        "\n",
        "    2. OR (or): Returns True if at least one condition is true.\n",
        "\n",
        "    3. NOT (not): Returns the opposite of the condition.\n",
        "\n",
        "\n",
        "Q9 . What is type casting in Python ?\n",
        "\n",
        "      - Type casting in Python means converting one data type to another — like  turning a string into an integer, or a float into a string.\n",
        "\n",
        "Q10 . What is the difference between implicit and explicit type casting ?\n",
        "\n",
        "        - Implicit type casting converts one data type to another without any explicit instructions. This usually happens when we are performing operations between different data types\n",
        "        - Explicit type casting, when we manually convert one data type to another  using casting operators or functions.\n",
        "\n",
        "\n",
        "Q11.  What is the purpose of conditional statements in Python ?\n",
        "\n",
        "    - Conditional statements in Python are used to control the flow of a program based on certain conditions or decisions like -\n",
        "\n",
        "      1. Make decisions: Execute specific blocks of code based on conditions like if, elif, and else.\n",
        "      2. Handle different scenarios: Respond to various inputs, errors, or situations.\n",
        "      3. Improve program logic: Add complexity and intelligence to your program.\n",
        "\n",
        "\n",
        "Q12 .  How does the elif statement work ?\n",
        "\n",
        "      - The elif statement means \"else if\". It's used to check multiple  conditions one after another, when the first if condition is not True.\n",
        "\n",
        "Q13 .  What is the difference between for and while loops ?\n",
        "\n",
        "        - For loop ✒ Use when we know how many times you want to repeat   something.\n",
        "        - while loop ✒ Use when you want to repeat until something happens.\n",
        "          This keeps going until the condition is false.\n",
        "\n",
        "Q14 .  Describe a scenario where a while loop is more suitable than a for loop ?\n",
        "\n",
        "      ▶ Scenario: Asking for the Right Password we want the user to enter a password.\n",
        "\n",
        "        We don’t know how many times they will get it wrong, so we keep asking until they get it right.This is a job for a while loop.\n",
        "\n",
        "        * You don’t know how many times it will run.It stops only when the password is correct.\n",
        "\n",
        "     A for loop is not good here, because that runs a fixed number of times.\n",
        "\n",
        "     \n",
        "\n",
        "\n",
        "\n",
        "\n",
        "      \n",
        "\n",
        "\n",
        "\n",
        "\n",
        "\n",
        "      "
      ],
      "metadata": {
        "id": "eHLoF8QKy2_r"
      }
    },
    {
      "cell_type": "code",
      "source": [
        "# Write a Python program to print \"Hello, World!\"\"\n",
        "\n",
        "print (\"Hello, World!\")"
      ],
      "metadata": {
        "colab": {
          "base_uri": "https://localhost:8080/"
        },
        "id": "Q90Unqx11uWl",
        "outputId": "5616fa08-483a-4db9-fbc8-a725105e7b2c"
      },
      "execution_count": null,
      "outputs": [
        {
          "output_type": "stream",
          "name": "stdout",
          "text": [
            "Hello, World!\n"
          ]
        }
      ]
    },
    {
      "cell_type": "code",
      "source": [
        "# Write a Python program that displays your name and age\n",
        "\n",
        "name = input (\"please enter your name : \" )"
      ],
      "metadata": {
        "colab": {
          "base_uri": "https://localhost:8080/"
        },
        "id": "Cg9hWv2oFxmp",
        "outputId": "6dc2e78b-ac21-425b-dab4-0a12747bda25"
      },
      "execution_count": null,
      "outputs": [
        {
          "name": "stdout",
          "output_type": "stream",
          "text": [
            "please enter your name : Samim kamal\n"
          ]
        }
      ]
    },
    {
      "cell_type": "code",
      "source": [
        "name"
      ],
      "metadata": {
        "colab": {
          "base_uri": "https://localhost:8080/",
          "height": 36
        },
        "id": "YWsNz1zuHHsH",
        "outputId": "90c0b420-9c81-43a5-96bc-65a52b189ea5"
      },
      "execution_count": null,
      "outputs": [
        {
          "output_type": "execute_result",
          "data": {
            "text/plain": [
              "'Samim kamal'"
            ],
            "application/vnd.google.colaboratory.intrinsic+json": {
              "type": "string"
            }
          },
          "metadata": {},
          "execution_count": 3
        }
      ]
    },
    {
      "cell_type": "code",
      "source": [
        "Age = input ( \"Please enter your age : \" )\n"
      ],
      "metadata": {
        "colab": {
          "base_uri": "https://localhost:8080/"
        },
        "id": "IcN2mtCCHNGk",
        "outputId": "b943b2f3-2b2b-4d5b-9a5a-e3fae72e72ec"
      },
      "execution_count": null,
      "outputs": [
        {
          "name": "stdout",
          "output_type": "stream",
          "text": [
            "Please enter your age : 27\n"
          ]
        }
      ]
    },
    {
      "cell_type": "code",
      "source": [
        "# prompt: Age\n",
        "\n",
        "print(\"My name is {name} and I am {Age} years old.\")"
      ],
      "metadata": {
        "colab": {
          "base_uri": "https://localhost:8080/"
        },
        "id": "-BEqpCd-HeDv",
        "outputId": "7592328b-9afd-4acb-cf02-00f176c441d6"
      },
      "execution_count": null,
      "outputs": [
        {
          "output_type": "stream",
          "name": "stdout",
          "text": [
            "My name is Samim kamal and I am 27 years old.\n"
          ]
        }
      ]
    },
    {
      "cell_type": "code",
      "source": [
        "# Write code to print all the pre-defined keywords in Python using the keyword library8\n",
        "help(\"keywords\")"
      ],
      "metadata": {
        "colab": {
          "base_uri": "https://localhost:8080/"
        },
        "id": "ybt1RlqYHs_K",
        "outputId": "fd7faf21-c056-4e67-e740-4a1f5ca3ee9b"
      },
      "execution_count": null,
      "outputs": [
        {
          "output_type": "stream",
          "name": "stdout",
          "text": [
            "\n",
            "Here is a list of the Python keywords.  Enter any keyword to get more help.\n",
            "\n",
            "False               class               from                or\n",
            "None                continue            global              pass\n",
            "True                def                 if                  raise\n",
            "and                 del                 import              return\n",
            "as                  elif                in                  try\n",
            "assert              else                is                  while\n",
            "async               except              lambda              with\n",
            "await               finally             nonlocal            yield\n",
            "break               for                 not                 \n",
            "\n"
          ]
        }
      ]
    },
    {
      "cell_type": "code",
      "source": [
        "# Write a program that checks if a given word is a Python keyword\n",
        "\n",
        "# Get user input\n",
        "word = input(\"Enter a word: \")\n",
        "\n",
        "# Check if the word is a Python keyword\n",
        "if keyword.iskeyword(word):\n",
        "    print(f\"'{word}' is a Python keyword.\")\n",
        "else:\n",
        "    print(f\"'{word}' is NOT a Python keyword.\")\n"
      ],
      "metadata": {
        "colab": {
          "base_uri": "https://localhost:8080/"
        },
        "id": "J8s9DDk6IONw",
        "outputId": "499c5c6e-2d70-4061-ab93-e1781372908d"
      },
      "execution_count": null,
      "outputs": [
        {
          "output_type": "stream",
          "name": "stdout",
          "text": [
            "Enter a word: else\n",
            "'else' is a Python keyword.\n"
          ]
        }
      ]
    },
    {
      "cell_type": "code",
      "source": [
        "# Create a list and tuple in Python, and demonstrate how attempting to change an element works differently\n",
        "for each.\n",
        "\n",
        "list_cont =[4,8,'samim',5.7 ]\n",
        "list_cont"
      ],
      "metadata": {
        "colab": {
          "base_uri": "https://localhost:8080/"
        },
        "id": "T-p6UrdBWgw5",
        "outputId": "72e492c5-a35b-4f77-e5a6-8e34bd894f65"
      },
      "execution_count": null,
      "outputs": [
        {
          "output_type": "execute_result",
          "data": {
            "text/plain": [
              "[4, 8, 'samim', 5.7]"
            ]
          },
          "metadata": {},
          "execution_count": 21
        }
      ]
    },
    {
      "cell_type": "code",
      "source": [
        "list_cont[1]=99\n",
        "list_cont"
      ],
      "metadata": {
        "colab": {
          "base_uri": "https://localhost:8080/"
        },
        "id": "EnrDxJX8Wjuh",
        "outputId": "dde2f768-c5cb-4142-cafa-50f55e79fcef"
      },
      "execution_count": null,
      "outputs": [
        {
          "output_type": "execute_result",
          "data": {
            "text/plain": [
              "[4, 99, 'samim', 5.7]"
            ]
          },
          "metadata": {},
          "execution_count": 22
        }
      ]
    },
    {
      "cell_type": "code",
      "source": [
        " tuple_cont =(4,8, 'samim',5.7)\n",
        " tuple_cont"
      ],
      "metadata": {
        "colab": {
          "base_uri": "https://localhost:8080/"
        },
        "id": "3Bt34kwgW_HV",
        "outputId": "d8fbdbcb-8014-4477-c19c-8e96bf4b1470"
      },
      "execution_count": null,
      "outputs": [
        {
          "output_type": "execute_result",
          "data": {
            "text/plain": [
              "(4, 8, 'samim', 5.7)"
            ]
          },
          "metadata": {},
          "execution_count": 23
        }
      ]
    },
    {
      "cell_type": "code",
      "source": [
        "tuple_cont[1]=99\n",
        "tuple_cont"
      ],
      "metadata": {
        "colab": {
          "base_uri": "https://localhost:8080/",
          "height": 158
        },
        "id": "tZ26C0VNZNro",
        "outputId": "c45bfbb1-6331-49e9-ca83-e3ea4996405a"
      },
      "execution_count": null,
      "outputs": [
        {
          "output_type": "error",
          "ename": "TypeError",
          "evalue": "'tuple' object does not support item assignment",
          "traceback": [
            "\u001b[0;31m---------------------------------------------------------------------------\u001b[0m",
            "\u001b[0;31mTypeError\u001b[0m                                 Traceback (most recent call last)",
            "\u001b[0;32m<ipython-input-25-f41c0db40fd8>\u001b[0m in \u001b[0;36m<cell line: 0>\u001b[0;34m()\u001b[0m\n\u001b[0;32m----> 1\u001b[0;31m \u001b[0mtuple_cont\u001b[0m\u001b[0;34m[\u001b[0m\u001b[0;36m1\u001b[0m\u001b[0;34m]\u001b[0m\u001b[0;34m=\u001b[0m\u001b[0;36m99\u001b[0m\u001b[0;34m\u001b[0m\u001b[0;34m\u001b[0m\u001b[0m\n\u001b[0m\u001b[1;32m      2\u001b[0m \u001b[0mtuple_cont\u001b[0m\u001b[0;34m\u001b[0m\u001b[0;34m\u001b[0m\u001b[0m\n",
            "\u001b[0;31mTypeError\u001b[0m: 'tuple' object does not support item assignment"
          ]
        }
      ]
    },
    {
      "cell_type": "markdown",
      "source": [
        "modified list = [4, 99, 'samim', 5.7]\n",
        "\n",
        "modified tuple list = eror in modifying tuple.'tuple' object does not support item assignment\n"
      ],
      "metadata": {
        "id": "-sJF9GYsZ8Wg"
      }
    },
    {
      "cell_type": "code",
      "source": [
        "# Write a function to demonstrate the behavior of mutable and immutable arguments\n",
        "\n",
        "list_cont = [4,5,2.3,'samim']\n",
        "list_cont"
      ],
      "metadata": {
        "colab": {
          "base_uri": "https://localhost:8080/"
        },
        "id": "qXQSRcDRaZTM",
        "outputId": "68b09e45-db0a-4e9a-e538-09a38e266255"
      },
      "execution_count": null,
      "outputs": [
        {
          "output_type": "execute_result",
          "data": {
            "text/plain": [
              "[4, 5, 2.3, 'samim']"
            ]
          },
          "metadata": {},
          "execution_count": 29
        }
      ]
    },
    {
      "cell_type": "code",
      "source": [
        "list_cont[0]=45\n",
        "list_cont"
      ],
      "metadata": {
        "colab": {
          "base_uri": "https://localhost:8080/"
        },
        "id": "eG8GgDXeeipq",
        "outputId": "b6462454-72a3-49aa-b1e5-6fe2c72859cc"
      },
      "execution_count": null,
      "outputs": [
        {
          "output_type": "execute_result",
          "data": {
            "text/plain": [
              "[45, 5, 2.3, 'samim']"
            ]
          },
          "metadata": {},
          "execution_count": 31
        }
      ]
    },
    {
      "cell_type": "code",
      "source": [
        "list_cont[3]"
      ],
      "metadata": {
        "colab": {
          "base_uri": "https://localhost:8080/",
          "height": 36
        },
        "id": "tYFu-eOFZZBi",
        "outputId": "5e1be5a5-936c-48a9-c265-41f5e2559f94"
      },
      "execution_count": null,
      "outputs": [
        {
          "output_type": "execute_result",
          "data": {
            "text/plain": [
              "'samim'"
            ],
            "application/vnd.google.colaboratory.intrinsic+json": {
              "type": "string"
            }
          },
          "metadata": {},
          "execution_count": 35
        }
      ]
    },
    {
      "cell_type": "code",
      "source": [
        "list_cont[3]=\"kamal\"\n",
        "list_cont"
      ],
      "metadata": {
        "colab": {
          "base_uri": "https://localhost:8080/"
        },
        "id": "ZtaY50DfivEm",
        "outputId": "c53d4ce9-b7f7-451b-9910-d1ccdee8ac97"
      },
      "execution_count": null,
      "outputs": [
        {
          "output_type": "execute_result",
          "data": {
            "text/plain": [
              "[45, 5, 2.3, 'kamal']"
            ]
          },
          "metadata": {},
          "execution_count": 39
        }
      ]
    },
    {
      "cell_type": "code",
      "source": [
        "A=\"Samim\"\n",
        "A[0]"
      ],
      "metadata": {
        "colab": {
          "base_uri": "https://localhost:8080/",
          "height": 36
        },
        "id": "pGT2VSkUjooP",
        "outputId": "4c782217-63be-40fc-daeb-2c9d3f670237"
      },
      "execution_count": null,
      "outputs": [
        {
          "output_type": "execute_result",
          "data": {
            "text/plain": [
              "'S'"
            ],
            "application/vnd.google.colaboratory.intrinsic+json": {
              "type": "string"
            }
          },
          "metadata": {},
          "execution_count": 40
        }
      ]
    },
    {
      "cell_type": "code",
      "source": [
        "A[0]=\"K\"\n",
        "A"
      ],
      "metadata": {
        "colab": {
          "base_uri": "https://localhost:8080/",
          "height": 158
        },
        "id": "h1EBzRMVlCaG",
        "outputId": "4d6f71c4-3a61-4cdf-a619-8e0a28ea95bb"
      },
      "execution_count": null,
      "outputs": [
        {
          "output_type": "error",
          "ename": "TypeError",
          "evalue": "'str' object does not support item assignment",
          "traceback": [
            "\u001b[0;31m---------------------------------------------------------------------------\u001b[0m",
            "\u001b[0;31mTypeError\u001b[0m                                 Traceback (most recent call last)",
            "\u001b[0;32m<ipython-input-41-f8038bf1c464>\u001b[0m in \u001b[0;36m<cell line: 0>\u001b[0;34m()\u001b[0m\n\u001b[0;32m----> 1\u001b[0;31m \u001b[0mA\u001b[0m\u001b[0;34m[\u001b[0m\u001b[0;36m0\u001b[0m\u001b[0;34m]\u001b[0m\u001b[0;34m=\u001b[0m\u001b[0;34m\"K\"\u001b[0m\u001b[0;34m\u001b[0m\u001b[0;34m\u001b[0m\u001b[0m\n\u001b[0m\u001b[1;32m      2\u001b[0m \u001b[0mA\u001b[0m\u001b[0;34m\u001b[0m\u001b[0;34m\u001b[0m\u001b[0m\n",
            "\u001b[0;31mTypeError\u001b[0m: 'str' object does not support item assignment"
          ]
        }
      ]
    },
    {
      "cell_type": "code",
      "source": [
        "\" from the conclusion we can say list is a mutable object so in list element changed after it is created but incase of string it is immutable object thats why code showes str does not support item assignment\""
      ],
      "metadata": {
        "colab": {
          "base_uri": "https://localhost:8080/",
          "height": 53
        },
        "id": "_oPNajKmlawy",
        "outputId": "09bde0e9-9b84-4e3d-c8e6-323667aa6b04"
      },
      "execution_count": null,
      "outputs": [
        {
          "output_type": "execute_result",
          "data": {
            "text/plain": [
              "' from the conclusion we can say list is a mutable object so in list element changed after it is created but incase of string it is immutable object thats why code showes str does not support item assignment'"
            ],
            "application/vnd.google.colaboratory.intrinsic+json": {
              "type": "string"
            }
          },
          "metadata": {},
          "execution_count": 1
        }
      ]
    },
    {
      "cell_type": "code",
      "source": [
        "# Write a program that performs basic arithmetic operations on two user-input numbers.\n",
        "A=5 # Assign statement\n",
        "B=7\n",
        "A+B # Expression statement"
      ],
      "metadata": {
        "colab": {
          "base_uri": "https://localhost:8080/"
        },
        "id": "noBg6IQEpnQR",
        "outputId": "36de5bdd-b828-42ad-ce0b-f36f27f7bfd4"
      },
      "execution_count": 5,
      "outputs": [
        {
          "output_type": "execute_result",
          "data": {
            "text/plain": [
              "12"
            ]
          },
          "metadata": {},
          "execution_count": 5
        }
      ]
    },
    {
      "cell_type": "code",
      "source": [
        "a=8\n",
        "b=9\n",
        "a*b"
      ],
      "metadata": {
        "colab": {
          "base_uri": "https://localhost:8080/"
        },
        "id": "8XLLpysBqIph",
        "outputId": "5c826ce6-84ac-4cf9-f668-b27e9fd57625"
      },
      "execution_count": 6,
      "outputs": [
        {
          "output_type": "execute_result",
          "data": {
            "text/plain": [
              "72"
            ]
          },
          "metadata": {},
          "execution_count": 6
        }
      ]
    },
    {
      "cell_type": "code",
      "source": [
        "a=109\n",
        "b=67\n",
        "a%b # using modulus operator"
      ],
      "metadata": {
        "colab": {
          "base_uri": "https://localhost:8080/"
        },
        "id": "BeXLPStcq32_",
        "outputId": "0fadd589-7c7e-4e3e-8dae-40d2cab68a48"
      },
      "execution_count": 8,
      "outputs": [
        {
          "output_type": "execute_result",
          "data": {
            "text/plain": [
              "42"
            ]
          },
          "metadata": {},
          "execution_count": 8
        }
      ]
    },
    {
      "cell_type": "code",
      "source": [
        "#  Write a program to demonstrate the use of logical operat\n",
        "\n",
        "True and False # case of AND operator"
      ],
      "metadata": {
        "colab": {
          "base_uri": "https://localhost:8080/"
        },
        "id": "JDmmXzXnsGkz",
        "outputId": "0bcea323-e33c-481e-baa5-f432be36e7c7"
      },
      "execution_count": 12,
      "outputs": [
        {
          "output_type": "execute_result",
          "data": {
            "text/plain": [
              "False"
            ]
          },
          "metadata": {},
          "execution_count": 12
        }
      ]
    },
    {
      "cell_type": "code",
      "source": [
        "True and True"
      ],
      "metadata": {
        "colab": {
          "base_uri": "https://localhost:8080/"
        },
        "id": "WFpf71sCsGxt",
        "outputId": "d67ef2a4-36ec-47f0-8008-76920d51d817"
      },
      "execution_count": 13,
      "outputs": [
        {
          "output_type": "execute_result",
          "data": {
            "text/plain": [
              "True"
            ]
          },
          "metadata": {},
          "execution_count": 13
        }
      ]
    },
    {
      "cell_type": "code",
      "source": [
        "False and True"
      ],
      "metadata": {
        "colab": {
          "base_uri": "https://localhost:8080/"
        },
        "id": "bn5wkBsxsG0j",
        "outputId": "9ba737ec-666e-4a5c-a7dc-7764bef8fe01"
      },
      "execution_count": 14,
      "outputs": [
        {
          "output_type": "execute_result",
          "data": {
            "text/plain": [
              "False"
            ]
          },
          "metadata": {},
          "execution_count": 14
        }
      ]
    },
    {
      "cell_type": "code",
      "source": [
        " True or False # case of OR operator"
      ],
      "metadata": {
        "colab": {
          "base_uri": "https://localhost:8080/"
        },
        "id": "NCEzbb-FsG39",
        "outputId": "8264446a-3226-4285-b74e-624d782ee2fc"
      },
      "execution_count": 15,
      "outputs": [
        {
          "output_type": "execute_result",
          "data": {
            "text/plain": [
              "True"
            ]
          },
          "metadata": {},
          "execution_count": 15
        }
      ]
    },
    {
      "cell_type": "code",
      "source": [
        "False or False"
      ],
      "metadata": {
        "colab": {
          "base_uri": "https://localhost:8080/"
        },
        "id": "ShWQ2JussG7x",
        "outputId": "7e476406-54ae-44c8-ba03-6740b8b5c03c"
      },
      "execution_count": 17,
      "outputs": [
        {
          "output_type": "execute_result",
          "data": {
            "text/plain": [
              "False"
            ]
          },
          "metadata": {},
          "execution_count": 17
        }
      ]
    },
    {
      "cell_type": "code",
      "source": [
        "True or True"
      ],
      "metadata": {
        "colab": {
          "base_uri": "https://localhost:8080/"
        },
        "id": "trs-8xvUvZgk",
        "outputId": "576984c1-db9d-414a-d634-60fd171c7897"
      },
      "execution_count": 18,
      "outputs": [
        {
          "output_type": "execute_result",
          "data": {
            "text/plain": [
              "True"
            ]
          },
          "metadata": {},
          "execution_count": 18
        }
      ]
    },
    {
      "cell_type": "code",
      "source": [
        "not True # case of NOT operator"
      ],
      "metadata": {
        "colab": {
          "base_uri": "https://localhost:8080/"
        },
        "id": "5xgJOVjKv3s5",
        "outputId": "7118389a-41e6-41fc-9823-7dc865d1bcbb"
      },
      "execution_count": 20,
      "outputs": [
        {
          "output_type": "execute_result",
          "data": {
            "text/plain": [
              "False"
            ]
          },
          "metadata": {},
          "execution_count": 20
        }
      ]
    },
    {
      "cell_type": "code",
      "source": [
        "not False"
      ],
      "metadata": {
        "colab": {
          "base_uri": "https://localhost:8080/"
        },
        "id": "SP_TuRMAv37y",
        "outputId": "930afbc9-a38c-488e-e190-411be3ee6517"
      },
      "execution_count": 22,
      "outputs": [
        {
          "output_type": "execute_result",
          "data": {
            "text/plain": [
              "True"
            ]
          },
          "metadata": {},
          "execution_count": 22
        }
      ]
    },
    {
      "cell_type": "code",
      "source": [
        "#  Write a Python program to convert user input from string to integer, float, and boolean types.\n",
        "\n",
        "A = \"602\"\n",
        "type(A)    # string value to integer value."
      ],
      "metadata": {
        "colab": {
          "base_uri": "https://localhost:8080/"
        },
        "id": "F9CmiAdGv3-g",
        "outputId": "fdd0f77c-9966-42e7-ee3f-6c297d98b424"
      },
      "execution_count": 23,
      "outputs": [
        {
          "output_type": "execute_result",
          "data": {
            "text/plain": [
              "str"
            ]
          },
          "metadata": {},
          "execution_count": 23
        }
      ]
    },
    {
      "cell_type": "code",
      "source": [
        "int(A)"
      ],
      "metadata": {
        "colab": {
          "base_uri": "https://localhost:8080/"
        },
        "id": "qvPJgH6Uv4Av",
        "outputId": "f28887a3-fd09-46ab-9b71-b0c742c0163c"
      },
      "execution_count": 25,
      "outputs": [
        {
          "output_type": "execute_result",
          "data": {
            "text/plain": [
              "602"
            ]
          },
          "metadata": {},
          "execution_count": 25
        }
      ]
    },
    {
      "cell_type": "code",
      "source": [
        "float(A)  # string value to float value."
      ],
      "metadata": {
        "colab": {
          "base_uri": "https://localhost:8080/"
        },
        "id": "drf2n8DKv4De",
        "outputId": "659fbee6-8307-4ded-b72e-59a8976cbbc1"
      },
      "execution_count": 26,
      "outputs": [
        {
          "output_type": "execute_result",
          "data": {
            "text/plain": [
              "602.0"
            ]
          },
          "metadata": {},
          "execution_count": 26
        }
      ]
    },
    {
      "cell_type": "code",
      "source": [
        "bool(A)"
      ],
      "metadata": {
        "colab": {
          "base_uri": "https://localhost:8080/"
        },
        "id": "NJQO_M89v4F8",
        "outputId": "ce14ec46-81bb-446f-d848-51b49e6bf2c5"
      },
      "execution_count": 27,
      "outputs": [
        {
          "output_type": "execute_result",
          "data": {
            "text/plain": [
              "True"
            ]
          },
          "metadata": {},
          "execution_count": 27
        }
      ]
    },
    {
      "cell_type": "code",
      "source": [
        "bool(0)"
      ],
      "metadata": {
        "colab": {
          "base_uri": "https://localhost:8080/"
        },
        "id": "U-VSD9osv4Jh",
        "outputId": "71ae5268-ab31-4a21-ab95-3030ec2db686"
      },
      "execution_count": 28,
      "outputs": [
        {
          "output_type": "execute_result",
          "data": {
            "text/plain": [
              "False"
            ]
          },
          "metadata": {},
          "execution_count": 28
        }
      ]
    },
    {
      "cell_type": "code",
      "source": [
        "\n",
        "#  Write code to demonstrate type casting with list elements\n",
        "\n",
        "ListComp = [23,6,5+7j ,\"samim\" ,1.4]\n",
        "ListComp"
      ],
      "metadata": {
        "colab": {
          "base_uri": "https://localhost:8080/"
        },
        "id": "JtnjHcSMxm5o",
        "outputId": "c93dc63c-469e-4324-b006-e50288e37ce2"
      },
      "execution_count": 39,
      "outputs": [
        {
          "output_type": "execute_result",
          "data": {
            "text/plain": [
              "[23, 6, (5+7j), 'samim', 1.4]"
            ]
          },
          "metadata": {},
          "execution_count": 39
        }
      ]
    },
    {
      "cell_type": "code",
      "source": [
        " type(ListComp)"
      ],
      "metadata": {
        "colab": {
          "base_uri": "https://localhost:8080/"
        },
        "id": "dnx2gMCl2sbw",
        "outputId": "9f0fb052-f386-4d9b-bea8-d2543f080445"
      },
      "execution_count": 30,
      "outputs": [
        {
          "output_type": "execute_result",
          "data": {
            "text/plain": [
              "list"
            ]
          },
          "metadata": {},
          "execution_count": 30
        }
      ]
    },
    {
      "cell_type": "code",
      "source": [
        "ListComp [0] =float(ListComp[0])\n",
        "ListComp"
      ],
      "metadata": {
        "colab": {
          "base_uri": "https://localhost:8080/"
        },
        "id": "ZTNGNH2y3z88",
        "outputId": "efb22b9b-6cbe-4767-d5d3-c6cbc9fd3fb4"
      },
      "execution_count": 38,
      "outputs": [
        {
          "output_type": "execute_result",
          "data": {
            "text/plain": [
              "[23.0, 6, 45, 'kamal', 1.4]"
            ]
          },
          "metadata": {},
          "execution_count": 38
        }
      ]
    },
    {
      "cell_type": "code",
      "source": [
        "ListComp [2] = bool(ListComp[2])\n",
        "ListComp"
      ],
      "metadata": {
        "colab": {
          "base_uri": "https://localhost:8080/"
        },
        "id": "4j2QBIxR5xta",
        "outputId": "99fcf530-b3a8-47dc-fce9-910954ce2de5"
      },
      "execution_count": 42,
      "outputs": [
        {
          "output_type": "execute_result",
          "data": {
            "text/plain": [
              "[23, 6, True, 'samim', 1.4]"
            ]
          },
          "metadata": {},
          "execution_count": 42
        }
      ]
    },
    {
      "cell_type": "code",
      "source": [
        " # Write a program that checks if a number is positive, negative, or zero.\n",
        "\n",
        "  # Ask the user to enter a number\n",
        "num = float(input(\"Enter a number: \"))\n",
        "\n",
        "# Check the number\n",
        "if num > 0:\n",
        "    print(\"The number is positive.\")\n",
        "elif num < 0:\n",
        "    print(\"The number is negative.\")\n",
        "else:\n",
        "    print(\"The number is zero.\")\n",
        ""
      ],
      "metadata": {
        "colab": {
          "base_uri": "https://localhost:8080/"
        },
        "id": "BoRBIGwP9v5o",
        "outputId": "df687960-2958-486e-bd36-d03f7573c183"
      },
      "execution_count": 45,
      "outputs": [
        {
          "output_type": "stream",
          "name": "stdout",
          "text": [
            "Enter a number: 11\n",
            "The number is positive.\n"
          ]
        }
      ]
    },
    {
      "cell_type": "code",
      "source": [
        "num = float(input(\"Enter a number: \"))\n",
        "\n",
        "# Check the number\n",
        "if num > 0:\n",
        "    print(\"The number is positive.\")\n",
        "elif num < 0:\n",
        "    print(\"The number is negative.\")\n",
        "else:\n",
        "    print(\"The number is zero.\")"
      ],
      "metadata": {
        "colab": {
          "base_uri": "https://localhost:8080/"
        },
        "id": "RbpA0jjpBGd_",
        "outputId": "fd93c8be-cfac-4dc2-8d04-786134e302e4"
      },
      "execution_count": 46,
      "outputs": [
        {
          "output_type": "stream",
          "name": "stdout",
          "text": [
            "Enter a number: -45\n",
            "The number is negative.\n"
          ]
        }
      ]
    },
    {
      "cell_type": "code",
      "source": [
        "num = float(input(\"Enter a number: \"))\n",
        "\n",
        "# Check the number\n",
        "if num > 0:\n",
        "    print(\"The number is positive.\")\n",
        "elif num < 0:\n",
        "    print(\"The number is negative.\")\n",
        "else:\n",
        "    print(\"The number is zero.\")"
      ],
      "metadata": {
        "colab": {
          "base_uri": "https://localhost:8080/"
        },
        "id": "ITMxhW-kIhgd",
        "outputId": "bb42bad9-5e87-431e-d5a4-e8d94f880b8e"
      },
      "execution_count": 47,
      "outputs": [
        {
          "output_type": "stream",
          "name": "stdout",
          "text": [
            "Enter a number: 0\n",
            "The number is zero.\n"
          ]
        }
      ]
    },
    {
      "cell_type": "code",
      "source": [
        "#  Write a for loop to print numbers from 1 to 10\n",
        "\n",
        "# Using a for loop to print numbers from 1 to 10\n",
        "for i in range(1, 11):\n",
        "    print(i)"
      ],
      "metadata": {
        "colab": {
          "base_uri": "https://localhost:8080/"
        },
        "id": "NwjQLNO8InO2",
        "outputId": "928a2e34-b900-4342-ab48-67d924569886"
      },
      "execution_count": 48,
      "outputs": [
        {
          "output_type": "stream",
          "name": "stdout",
          "text": [
            "1\n",
            "2\n",
            "3\n",
            "4\n",
            "5\n",
            "6\n",
            "7\n",
            "8\n",
            "9\n",
            "10\n"
          ]
        }
      ]
    },
    {
      "cell_type": "code",
      "source": [
        "# Write a Python program to find the sum of all even numbers between 1 and 50.\n",
        "\n",
        "\n",
        "even_sum = 0\n",
        "\n",
        "# Loop through numbers from 1 to 50\n",
        "for num in range(1, 51):\n",
        "    if num % 2 == 0:\n",
        "        even_sum += num\n",
        "\n",
        "print(\"Sum of even numbers from 1 to 50 is:\", even_sum)    # num % 2 == 0 checks if the number is even , even_sum += num adds the even number to the total sum.\n"
      ],
      "metadata": {
        "colab": {
          "base_uri": "https://localhost:8080/"
        },
        "id": "r6skKKCJI605",
        "outputId": "47fe9d0e-041c-44c2-cf56-471861ef7137"
      },
      "execution_count": 54,
      "outputs": [
        {
          "output_type": "stream",
          "name": "stdout",
          "text": [
            "Sum of even numbers from 1 to 50 is: 650\n"
          ]
        }
      ]
    },
    {
      "cell_type": "code",
      "source": [
        "# Write a program to reverse a string using a while loop\n",
        "\n",
        "# Input string from the user\n",
        "text = input(\"Enter a string: \")\n",
        "\n",
        "# Initialize variables\n",
        "reversed_text = \"\"\n",
        "index = len(text) - 1\n",
        "\n",
        "# Use while loop to reverse the string\n",
        "while index >= 0:\n",
        "    reversed_text += text[index]\n",
        "    index -= 1\n",
        "\n",
        "\n",
        "# Print the reversed string\n",
        "print(\"Reversed string:\", reversed_text)"
      ],
      "metadata": {
        "colab": {
          "base_uri": "https://localhost:8080/"
        },
        "id": "LoVMCPopI7A1",
        "outputId": "e5fb7456-0696-41e9-fc1a-651528906be4"
      },
      "execution_count": 56,
      "outputs": [
        {
          "output_type": "stream",
          "name": "stdout",
          "text": [
            "Enter a string: samim\n",
            "Reversed string: mimas\n"
          ]
        }
      ]
    },
    {
      "cell_type": "code",
      "source": [
        "#  Write a Python program to calculate the factorial of a number provided by the user using a while loop.\n",
        "\n",
        "\n",
        "# Get input from the user\n",
        "num = int(input(\"Enter a number: \"))\n",
        "\n",
        "# Initialize factorial result\n",
        "factorial = 1\n",
        "i = 1\n",
        "\n",
        "# Check if the number is negative\n",
        "if num < 0:\n",
        "    print(\"Factorial does not exist for negative numbers.\")\n",
        "elif num == 0:\n",
        "    print(\"The factorial of 0 is 1.\")\n",
        "else:\n",
        "    # Calculate factorial using while loop\n",
        "    while i <= num:\n",
        "        factorial *= i\n",
        "        i += 1\n",
        "    print(f\"The factorial of {num} is {factorial}.\")"
      ],
      "metadata": {
        "colab": {
          "base_uri": "https://localhost:8080/"
        },
        "id": "AkEfipsCI7DM",
        "outputId": "983fde8a-5acc-459d-c519-37fe7b744ce1"
      },
      "execution_count": 57,
      "outputs": [
        {
          "output_type": "stream",
          "name": "stdout",
          "text": [
            "Enter a number: 8\n",
            "The factorial of 8 is 40320.\n"
          ]
        }
      ]
    },
    {
      "cell_type": "code",
      "source": [],
      "metadata": {
        "id": "AqVuVxWCI7Go"
      },
      "execution_count": null,
      "outputs": []
    }
  ]
}