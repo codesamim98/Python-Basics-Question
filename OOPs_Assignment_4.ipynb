{
  "nbformat": 4,
  "nbformat_minor": 0,
  "metadata": {
    "colab": {
      "provenance": []
    },
    "kernelspec": {
      "name": "python3",
      "display_name": "Python 3"
    },
    "language_info": {
      "name": "python"
    }
  },
  "cells": [
    {
      "cell_type": "markdown",
      "source": [],
      "metadata": {
        "id": "hyL7PBPNnuch"
      }
    },
    {
      "cell_type": "markdown",
      "source": [
        "1. What is Object-Oriented Programming (OOP)?\n",
        "Answer:\n",
        "\n",
        "Object-Oriented Programming (OOP) is a programming paradigm that uses \"objects\" to model real-world entities. These objects encapsulate data and the methods that operate on that data. The four main principles of OOP are encapsulation, abstraction, inheritance, and polymorphism.\n"
      ],
      "metadata": {
        "id": "9LwHWBWroNYQ"
      }
    },
    {
      "cell_type": "markdown",
      "source": [
        "2. What is a class in OOP?\n",
        "\n",
        "Answer:\n",
        "\n",
        "A class in OOP is a blueprint for creating objects. It defines attributes (data) and methods (functions) that the created objects (instances) will have. For example:\n",
        "\n",
        "3. What is an object in OOP?\n",
        "\n",
        "Answer:\n",
        "\n",
        "An object is an instance of a class. It represents a specific implementation with actual values for the attributes defined in the class.\n",
        "\n",
        "4. What is the difference between abstraction and encapsulation?\n",
        "\n",
        "Answer:\n",
        "\n",
        "Abstraction hides complex implementation details and shows only the essential features.\n",
        "\n",
        "Encapsulation binds data and methods into a single unit and restricts access to some of the object’s components.\n",
        "\n",
        "5. What are dunder methods in Python?\n",
        "\n",
        "Answer:\n",
        "\n",
        "Dunder (double underscore) methods are special methods in Python like __init__, __str__, and __len__, used to define behaviors for objects like construction, printing, and length.\n",
        "\n",
        "6. Explain the concept of inheritance in OOP.\n",
        "\n",
        "Answer:\n",
        "\n",
        "Inheritance allows a class to inherit attributes and methods from another class. This helps reuse code and establish relationships between classes.\n",
        "\n",
        "7. What is polymorphism in OOP?\n",
        "\n",
        "Answer:\n",
        "\n",
        "Polymorphism allows objects of different classes to be treated as instances of the same class through a common interface.\n",
        "\n",
        "\n"
      ],
      "metadata": {
        "id": "rKsRc991oTNk"
      }
    },
    {
      "cell_type": "code",
      "source": [
        "class Animal:\n",
        "    def sound(self):\n",
        "        print(\"Animal makes a sound\")\n",
        "\n",
        "class Dog(Animal):\n",
        "    def sound(self):\n",
        "        print(\"Dog barks\")\n",
        "\n",
        "class Cat(Animal):\n",
        "    def sound(self):\n",
        "        print(\"Cat meows\")\n",
        "\n",
        "# Using polymorphism\n",
        "def make_sound(animal):\n",
        "    animal.sound()\n",
        "\n",
        "make_sound(Dog())\n",
        "make_sound(Cat())\n"
      ],
      "metadata": {
        "colab": {
          "base_uri": "https://localhost:8080/"
        },
        "id": "_RnDjQ7xwQHa",
        "outputId": "f5571924-dbdc-486d-adac-f72ff9e05981"
      },
      "execution_count": null,
      "outputs": [
        {
          "output_type": "stream",
          "name": "stdout",
          "text": [
            "Dog barks\n",
            "Cat meows\n"
          ]
        }
      ]
    },
    {
      "cell_type": "markdown",
      "source": [
        "8. How is encapsulation achieved in Python?\n",
        "\n",
        "Answer:\n",
        "\n",
        "By using private variables (prefixing with _ or __) and providing getter and setter methods to control access.\n",
        "\n",
        "9. What is a constructor in Python?\n",
        "\n",
        "Answer:\n",
        "\n",
        "The __init__ method in a class is a constructor that initializes object attributes when an object is created.\n",
        "\n",
        "10. What are class and static methods in Python?\n",
        "\n",
        "Answer:\n",
        "\n",
        "@classmethod: Takes cls as the first argument and can modify class state.\n",
        "\n",
        "@staticmethod: Does not take self or cls, behaves like a regular function within a class.\n",
        "\n",
        "\n",
        "11. What is method overloading in Python?\n",
        "\n",
        "Answer:\n",
        "\n",
        "Python does not support traditional method overloading. Instead, we use default arguments or *args/**kwargs.\n",
        "\n",
        "12. What is method overriding in OOP?\n",
        "\n",
        "Answer:\n",
        "\n",
        "Method overriding occurs when a subclass provides a specific implementation of a method already defined in its parent class.\n",
        "\n",
        "13. What is a property decorator in Python?\n",
        "\n",
        "Answer:\n",
        "\n",
        "@property is used to define a method as a property, allowing method access like an attribute.\n",
        "\n",
        "14. Why is polymorphism important in OOP?\n",
        "\n",
        "Answer:\n",
        "\n",
        "Polymorphism increases flexibility and reusability of code, allowing different classes to be treated uniformly.\n",
        "\n",
        "15. What is an abstract class in Python?\n",
        "\n",
        "Answer:\n",
        "\n",
        "An abstract class cannot be instantiated and may have abstract methods. It is defined using the abc module.\n",
        "\n",
        "16. What are the advantages of OOP?\n",
        "\n",
        "Answer:\n",
        "\n",
        "Reusability through inheritance\n",
        "\n",
        "Modularity via encapsulation\n",
        "\n",
        "Flexibility with polymorphism\n",
        "\n",
        "Maintainability\n",
        "\n",
        "17. What is the difference between a class variable and an instance variable?\n",
        "\n",
        "Answer:\n",
        "\n",
        "1. Class Variable\n",
        "\n",
        "--Shared across all instances of the class.\n",
        "\n",
        "--Defined inside the class but outside any methods.\n",
        "\n",
        "--Changing a class variable affects all instances (unless it's shadowed by an instance variable)\n",
        "\n",
        "2. Instance Variable\n",
        "\n",
        "--Unique to each instance of the class.\n",
        "\n",
        "--Usually defined using self inside the __init__ method (or other methods).\n",
        "\n",
        "--Changing an instance variable only affects that specific instance.\n",
        "\n",
        "\n",
        "18. What is multiple inheritance in Python?\n",
        "\n",
        "Answer:\n",
        "\n",
        "Multiple inheritance in Python means a class can inherit attributes and methods from more than one parent class.\n",
        "\n"
      ],
      "metadata": {
        "id": "ZzzNI909na63"
      }
    },
    {
      "cell_type": "code",
      "source": [
        "class A:\n",
        "    def speak(self):\n",
        "        print(\"A speaks\")\n",
        "\n",
        "class B:\n",
        "    def talk(self):\n",
        "        print(\"B talks\")\n",
        "\n",
        "class C(A, B):  # Multiple inheritance\n",
        "    pass\n",
        "\n",
        "obj = C()\n",
        "obj.speak()  # From class A\n",
        "obj.talk()   # From class B"
      ],
      "metadata": {
        "colab": {
          "base_uri": "https://localhost:8080/"
        },
        "id": "FX3-6es3yMc2",
        "outputId": "3fdab019-6956-4b3f-b5b5-0c7b640de4a4"
      },
      "execution_count": null,
      "outputs": [
        {
          "output_type": "stream",
          "name": "stdout",
          "text": [
            "A speaks\n",
            "B talks\n"
          ]
        }
      ]
    },
    {
      "cell_type": "code",
      "source": [],
      "metadata": {
        "id": "Xcb8RMHDyR-0"
      },
      "execution_count": null,
      "outputs": []
    },
    {
      "cell_type": "markdown",
      "source": [
        "19. Explain the purpose of ″_ str _ ′ and ′_ repr _′ ′ methods in Python.\n",
        "Answer:\n",
        "\n",
        "In Python, the special methods __str__() and __repr__() are used to define how objects are represented as strings.\n",
        "\n",
        "🔹 __str__(self)\n",
        "Used by the print() function and str().\n",
        "\n",
        "Meant to return a readable and user-friendly string.\n",
        "\n",
        "Purpose: For end users.\n",
        "\n",
        "🔹 __repr__(self)\n",
        "Used by the repr() function and in the Python shell.\n",
        "\n",
        "Should return a developer-friendly, often unambiguous string that could help in debugging.\n",
        "\n",
        "Purpose: For developers.\n",
        "\n",
        "\n"
      ],
      "metadata": {
        "id": "hGMNwzXayfkb"
      }
    },
    {
      "cell_type": "code",
      "source": [
        "class Person:\n",
        "    def __init__(self, name, age):\n",
        "        self.name = name\n",
        "        self.age = age\n",
        "\n",
        "    def __str__(self):\n",
        "        return f\"{self.name}, {self.age} years old\"\n",
        "\n",
        "    def __repr__(self):\n",
        "        return f\"Person('{self.name}', {self.age})\"\n",
        "\n",
        "p = Person(\"Alice\", 30)\n",
        "\n",
        "print(str(p))\n",
        "print(repr(p))\n"
      ],
      "metadata": {
        "colab": {
          "base_uri": "https://localhost:8080/"
        },
        "id": "LmSI9J30zFKS",
        "outputId": "d106fd34-3d4d-4059-f787-e7a4a179bea0"
      },
      "execution_count": null,
      "outputs": [
        {
          "output_type": "stream",
          "name": "stdout",
          "text": [
            "Alice, 30 years old\n",
            "Person('Alice', 30)\n"
          ]
        }
      ]
    },
    {
      "cell_type": "code",
      "source": [],
      "metadata": {
        "id": "X2iQIZ45zMMx"
      },
      "execution_count": null,
      "outputs": []
    },
    {
      "cell_type": "markdown",
      "source": [
        "20. What is the significance of the ‘super()’ function in Python.\n",
        "Answer:\n",
        "\n",
        "The super() function in Python is used to call methods from a parent or sibling class. It's especially important in inheritance, including multiple inheritance, to ensure proper method resolution and to avoid redundancy.\n",
        "\n",
        "🔹 Key Uses of super():\n",
        "\n",
        "Access parent class methods without hardcoding the parent class name.\n",
        "\n",
        "Maintain the method resolution order (MRO) in complex inheritance structures.\n",
        "\n",
        "Avoid duplicate code and improve maintainability.\n",
        "\n",
        "\n",
        "\n",
        "21. What is the significance of the _ del _ method in Python?\n",
        "\n",
        "Answer:\n",
        "\n",
        "The __del__ method in Python is a destructor—it is called when an object is about to be destroyed, typically when there are no more references to it.\n",
        "\n",
        "🔹 Purpose of __del__:\n",
        "\n",
        "  -Used to perform cleanup actions like:\n",
        "\n",
        "  -Closing files\n",
        "\n",
        "  -Releasing network connections\n",
        "\n",
        "  -Deleting temporary resources\n",
        "\n",
        "  -It gives you a chance to define custom teardown behavior for your objects.\n",
        "\n",
        "  22. What is the difference between @staticmethod and @classmethod in Python?\n",
        "\n",
        "  In Python, @staticmethod and @classmethod are decorators used to define methods that are not regular instance methods. Here's the key difference:\n",
        "\n",
        "  🔹 @staticmethod\n",
        "Does not take self or cls as a parameter.\n",
        "\n",
        "Acts like a regular function, but lives inside the class’s namespace.\n",
        "\n",
        "Cannot access or modify class or instance state.\n",
        "\n",
        "Used when the method logically belongs to the class, but doesn't need class/instance data.\n",
        "\n",
        "🔹 @classmethod\n",
        "Takes cls as the first argument (refers to the class itself).\n",
        "\n",
        "Can access or modify class variables.\n",
        "\n",
        "Used when you need to create objects or modify class-level data.\n",
        "\n",
        "23. How does polymorphism work in Python with inheritance?\n",
        "\n",
        "Answer:\n",
        "\n",
        "Objects of different classes can be treated as objects of a common base class, especially when they share the same method name, allowing the correct method to be called dynamically at runtime.\n",
        "\n",
        "🔹 How it works:\n",
        "\n",
        "Python uses dynamic (runtime) method resolution.\n",
        "\n",
        "Even if a variable is typed as the base class, Python checks the actual object type to decide which method to run.\n",
        "\n",
        "Example:\n",
        "\n",
        "\n"
      ],
      "metadata": {
        "id": "FqLTyqlfzZ3t"
      }
    },
    {
      "cell_type": "code",
      "source": [
        "class Animal:\n",
        "    def speak(self):\n",
        "        print(\"Animal speaks\")\n",
        "\n",
        "class Dog(Animal):\n",
        "    def speak(self):\n",
        "        print(\"Dog barks\")\n",
        "\n",
        "class Cat(Animal):\n",
        "    def speak(self):\n",
        "        print(\"Cat meows\")\n",
        "\n",
        "# Polymorphic behavior\n",
        "def make_sound(animal):\n",
        "    animal.speak()\n",
        "\n",
        "make_sound(Dog())\n",
        "make_sound(Cat())"
      ],
      "metadata": {
        "colab": {
          "base_uri": "https://localhost:8080/"
        },
        "id": "_hC9WbEw06BM",
        "outputId": "d5f73045-8603-4114-962c-de5c19ca4aea"
      },
      "execution_count": null,
      "outputs": [
        {
          "output_type": "stream",
          "name": "stdout",
          "text": [
            "Dog barks\n",
            "Cat meows\n"
          ]
        }
      ]
    },
    {
      "cell_type": "markdown",
      "source": [],
      "metadata": {
        "id": "6AV5LZrB1GD-"
      }
    },
    {
      "cell_type": "code",
      "source": [],
      "metadata": {
        "id": "d49ktV9v0c0C"
      },
      "execution_count": null,
      "outputs": []
    },
    {
      "cell_type": "markdown",
      "source": [
        "24. What is method chaining in Python OOP?\n",
        "Answer:\n",
        "\n",
        "Method chaining is a technique where multiple method calls are linked together in a single statement, by having each method return self.\n",
        "\n",
        "🔹 How it Works:\n",
        "\n",
        "Each method performs some action and then returns the same object (self) so that the next method can be called on it.\n",
        "\n",
        "25. What is the purpose of the __ call __ method in Python?\n",
        "\n",
        "🔹 __call__ method in Python\n",
        "\n",
        "The __call__ method lets an object behave like a function—meaning you can \"call\" an instance as if it were a function.\n",
        "\n",
        "Purpose:\n",
        "\n",
        "To allow instances of a class to be invoked like functions by defining custom behavior when the object is called using parentheses ()\n"
      ],
      "metadata": {
        "id": "oWPRybpB1oed"
      }
    },
    {
      "cell_type": "code",
      "source": [],
      "metadata": {
        "id": "WYYubMTx2kM8"
      },
      "execution_count": null,
      "outputs": []
    },
    {
      "cell_type": "markdown",
      "source": [
        "**PRACTICAL** **QUESTIONS**"
      ],
      "metadata": {
        "id": "mD7xENA_2qE-"
      }
    },
    {
      "cell_type": "markdown",
      "source": [
        "1. Create a parent class Animal with a method speak() that prints a generic message. Create a child class Dog that overrides the speak() method to print \"Bark!\".\n"
      ],
      "metadata": {
        "id": "C9gUrWuo23Gs"
      }
    },
    {
      "cell_type": "code",
      "source": [
        "class Animal:\n",
        "    def speak(self):\n",
        "        print(\"Animal speaks...\")\n",
        "\n",
        "class Dog(Animal):\n",
        "    def speak(self):\n",
        "        print(\"Bark!\")\n",
        "\n",
        "d = Dog()\n",
        "d.speak()"
      ],
      "metadata": {
        "colab": {
          "base_uri": "https://localhost:8080/"
        },
        "id": "X_yaOJbp3CSq",
        "outputId": "af7963f3-0f55-4bfa-f2b5-3d4c0c09a3ae"
      },
      "execution_count": null,
      "outputs": [
        {
          "output_type": "stream",
          "name": "stdout",
          "text": [
            "Bark!\n"
          ]
        }
      ]
    },
    {
      "cell_type": "code",
      "source": [],
      "metadata": {
        "id": "JcjpISjE2lV3"
      },
      "execution_count": null,
      "outputs": []
    },
    {
      "cell_type": "markdown",
      "source": [
        "2. Write a program to create an abstract class Shape with a method area(). Derive classes Circle and Rectangle from it and implement the area() method in both."
      ],
      "metadata": {
        "id": "BRv5Reck3Ia_"
      }
    },
    {
      "cell_type": "code",
      "source": [
        "from abc import ABC, abstractmethod\n",
        "\n",
        "class Shape(ABC):\n",
        "    @abstractmethod\n",
        "    def area(self):\n",
        "        pass\n",
        "\n",
        "class Circle(Shape):\n",
        "    def __init__(self, radius):\n",
        "        self.radius = radius\n",
        "\n",
        "    def area(self):\n",
        "        return 3.14 * self.radius * self.radius\n",
        "\n",
        "class Rectangle(Shape):\n",
        "    def __init__(self, width, height):\n",
        "        self.width = width\n",
        "        self.height = height\n",
        "\n",
        "    def area(self):\n",
        "        return self.width * self.height\n",
        "\n",
        "c = Circle(5)\n",
        "r = Rectangle(4, 6)\n",
        "print(c.area())\n",
        "print(r.area())"
      ],
      "metadata": {
        "colab": {
          "base_uri": "https://localhost:8080/"
        },
        "id": "C9N-YL2l3MOA",
        "outputId": "534d08a1-7a66-441d-f590-c343c1b8be59"
      },
      "execution_count": null,
      "outputs": [
        {
          "output_type": "stream",
          "name": "stdout",
          "text": [
            "78.5\n",
            "24\n"
          ]
        }
      ]
    },
    {
      "cell_type": "code",
      "source": [],
      "metadata": {
        "id": "5isSlpSZ3Z8x"
      },
      "execution_count": null,
      "outputs": []
    },
    {
      "cell_type": "markdown",
      "source": [
        "3. Implement a multi-level inheritance scenario where a class Vehicle has an attribute type. Derive a class Car and further derive a class ElectricCar that adds a battery attribute.\n"
      ],
      "metadata": {
        "id": "acApNF4c3cJL"
      }
    },
    {
      "cell_type": "code",
      "source": [
        "class Vehicle:\n",
        "    def __init__(self, type):\n",
        "        self.type = type\n",
        "\n",
        "class Car(Vehicle):\n",
        "    def __init__(self, type, brand):\n",
        "        super().__init__(type)\n",
        "        self.brand = brand\n",
        "\n",
        "class ElectricCar(Car):\n",
        "    def __init__(self, type, brand, battery):\n",
        "        super().__init__(type, brand)\n",
        "        self.battery = battery\n",
        "\n",
        "e_car = ElectricCar(\"EV\", \"Tesla\", \"100 kWh\")\n",
        "print(e_car.type, e_car.brand, e_car.battery)"
      ],
      "metadata": {
        "colab": {
          "base_uri": "https://localhost:8080/"
        },
        "id": "wVVYGakN3hCF",
        "outputId": "fafa5167-646e-4298-83dd-c7ff7ca81958"
      },
      "execution_count": null,
      "outputs": [
        {
          "output_type": "stream",
          "name": "stdout",
          "text": [
            "EV Tesla 100 kWh\n"
          ]
        }
      ]
    },
    {
      "cell_type": "code",
      "source": [],
      "metadata": {
        "id": "OyRAVrY53nnw"
      },
      "execution_count": null,
      "outputs": []
    },
    {
      "cell_type": "markdown",
      "source": [
        "4. Demonstrate polymorphism by creating a base class Bird with a method fly(). Create two derived classes Sparrow and Penguin that override the fly() method."
      ],
      "metadata": {
        "id": "N_l0tACV32p9"
      }
    },
    {
      "cell_type": "code",
      "source": [
        "class Bird:\n",
        "    def fly(self):\n",
        "        print(\"Bird is flying\")\n",
        "\n",
        "class Sparrow(Bird):\n",
        "    def fly(self):\n",
        "        print(\"Sparrow flies high\")\n",
        "\n",
        "class Penguin(Bird):\n",
        "    def fly(self):\n",
        "        print(\"Penguins can't fly\")\n",
        "\n",
        "for bird in [Sparrow(), Penguin()]:\n",
        "    bird.fly()\n"
      ],
      "metadata": {
        "colab": {
          "base_uri": "https://localhost:8080/"
        },
        "id": "dTyLXq7P37XS",
        "outputId": "a22300ae-37e4-48ed-8744-55508e8491d5"
      },
      "execution_count": null,
      "outputs": [
        {
          "output_type": "stream",
          "name": "stdout",
          "text": [
            "Sparrow flies high\n",
            "Penguins can't fly\n"
          ]
        }
      ]
    },
    {
      "cell_type": "code",
      "source": [],
      "metadata": {
        "id": "wESeNKYJ4DI4"
      },
      "execution_count": null,
      "outputs": []
    },
    {
      "cell_type": "markdown",
      "source": [
        "5. Write a program to demonstrate encapsulation by creating a class BankAccount with private attributes balance and methods to deposit, withdraw, and check balance.\n"
      ],
      "metadata": {
        "id": "PRArPz3Z4FgL"
      }
    },
    {
      "cell_type": "code",
      "source": [
        "class BankAccount:\n",
        "    def __init__(self):\n",
        "        self.__balance = 0\n",
        "\n",
        "    def deposit(self, amount):\n",
        "        self.__balance += amount\n",
        "\n",
        "    def withdraw(self, amount):\n",
        "        if amount <= self.__balance:\n",
        "            self.__balance -= amount\n",
        "        else:\n",
        "            print(\"Insufficient balance\")\n",
        "\n",
        "    def get_balance(self):\n",
        "        return self.__balance\n",
        "\n",
        "acc = BankAccount()\n",
        "acc.deposit(1000)\n",
        "acc.withdraw(500)\n",
        "print(acc.get_balance())"
      ],
      "metadata": {
        "colab": {
          "base_uri": "https://localhost:8080/"
        },
        "id": "ITK-cuJE4NYj",
        "outputId": "32a4ba30-10d2-4fcb-f9f4-1b97cbb7b841"
      },
      "execution_count": null,
      "outputs": [
        {
          "output_type": "stream",
          "name": "stdout",
          "text": [
            "500\n"
          ]
        }
      ]
    },
    {
      "cell_type": "code",
      "source": [],
      "metadata": {
        "id": "tpCl0c864WyP"
      },
      "execution_count": null,
      "outputs": []
    },
    {
      "cell_type": "markdown",
      "source": [],
      "metadata": {
        "id": "886LjeYE4ilC"
      }
    },
    {
      "cell_type": "markdown",
      "source": [
        "6. Demonstrate runtime polymorphism using a method play() in a base class Instrument. Derive classes Guitar and Piano that implement their own version of play().\n"
      ],
      "metadata": {
        "id": "kpmAZ2Mz4kdp"
      }
    },
    {
      "cell_type": "code",
      "source": [
        "class Instrument:\n",
        "    def play(self):\n",
        "        print(\"Instrument is playing\")\n",
        "\n",
        "class Guitar(Instrument):\n",
        "    def play(self):\n",
        "        print(\"Guitar is playing\")\n",
        "\n",
        "class Piano(Instrument):\n",
        "    def play(self):\n",
        "        print(\"Piano is playing\")\n",
        "\n",
        "for inst in [Guitar(), Piano()]:\n",
        "    inst.play()\n"
      ],
      "metadata": {
        "colab": {
          "base_uri": "https://localhost:8080/"
        },
        "id": "mU4SuLSw4mBN",
        "outputId": "b2ac0085-8b93-441d-98bf-3ef545c626ff"
      },
      "execution_count": null,
      "outputs": [
        {
          "output_type": "stream",
          "name": "stdout",
          "text": [
            "Guitar is playing\n",
            "Piano is playing\n"
          ]
        }
      ]
    },
    {
      "cell_type": "code",
      "source": [],
      "metadata": {
        "id": "0SoeP1SB4rq7"
      },
      "execution_count": null,
      "outputs": []
    },
    {
      "cell_type": "markdown",
      "source": [
        "7. Create a class MathOperations with a class method add_numbers() to add two numbers and a static method subtract_numbers() to subtract two numbers."
      ],
      "metadata": {
        "id": "4q1Y4s1u4tI6"
      }
    },
    {
      "cell_type": "code",
      "source": [
        "class MathOperations:\n",
        "    @classmethod\n",
        "    def add_numbers(cls, a, b):\n",
        "        return a + b\n",
        "\n",
        "    @staticmethod\n",
        "    def subtract_numbers(a, b):\n",
        "        return a - b\n",
        "\n",
        "print(MathOperations.add_numbers(10, 5))\n",
        "print(MathOperations.subtract_numbers(10, 5))"
      ],
      "metadata": {
        "colab": {
          "base_uri": "https://localhost:8080/"
        },
        "id": "cGiZcpLW41VK",
        "outputId": "fe1468ac-4e31-4288-ebec-a79edc0a942b"
      },
      "execution_count": null,
      "outputs": [
        {
          "output_type": "stream",
          "name": "stdout",
          "text": [
            "15\n",
            "5\n"
          ]
        }
      ]
    },
    {
      "cell_type": "code",
      "source": [],
      "metadata": {
        "id": "1hwMULmx45Og"
      },
      "execution_count": null,
      "outputs": []
    },
    {
      "cell_type": "markdown",
      "source": [
        "8. Implement a class Person with a class method to count the total number of persons created.\n",
        "\n"
      ],
      "metadata": {
        "id": "C4GH5PVZk3nF"
      }
    },
    {
      "cell_type": "code",
      "source": [
        "class Person:\n",
        "    count = 0\n",
        "\n",
        "    def __init__(self):\n",
        "        Person.count += 1\n",
        "\n",
        "    @classmethod\n",
        "    def total_persons(cls):\n",
        "        return cls.count\n",
        "\n",
        "p1 = Person()\n",
        "p2 = Person()\n",
        "print(Person.total_persons())"
      ],
      "metadata": {
        "colab": {
          "base_uri": "https://localhost:8080/"
        },
        "id": "GuH6OpUilJsb",
        "outputId": "74be83e6-e64d-4638-9326-9a48ad9b40f7"
      },
      "execution_count": 1,
      "outputs": [
        {
          "output_type": "stream",
          "name": "stdout",
          "text": [
            "2\n"
          ]
        }
      ]
    },
    {
      "cell_type": "code",
      "source": [],
      "metadata": {
        "id": "7ktOcgsclsG8"
      },
      "execution_count": null,
      "outputs": []
    },
    {
      "cell_type": "markdown",
      "source": [
        "9. Write a class Fraction with attributes numerator and denominator. Override the str method to display the fraction as \"numerator/denominator\".\n"
      ],
      "metadata": {
        "id": "HfKTNmcUltSZ"
      }
    },
    {
      "cell_type": "code",
      "source": [
        "class Fraction:\n",
        "    def __init__(self, numerator, denominator):\n",
        "        self.numerator = numerator\n",
        "        self.denominator = denominator\n",
        "\n",
        "    def __str__(self):\n",
        "        return f\"{self.numerator}/{self.denominator}\"\n",
        "\n",
        "f = Fraction(3, 4)\n",
        "print(f)"
      ],
      "metadata": {
        "colab": {
          "base_uri": "https://localhost:8080/"
        },
        "id": "YlmSsESPlzC5",
        "outputId": "b38e5fc8-6d2c-4a18-bf05-1309cd31ba6a"
      },
      "execution_count": 2,
      "outputs": [
        {
          "output_type": "stream",
          "name": "stdout",
          "text": [
            "3/4\n"
          ]
        }
      ]
    },
    {
      "cell_type": "code",
      "source": [],
      "metadata": {
        "id": "EEK3Tge0lz45"
      },
      "execution_count": null,
      "outputs": []
    },
    {
      "cell_type": "markdown",
      "source": [
        "10. Demonstrate operator overloading by creating a class Vector and overriding the add method to add two Vctors.\n"
      ],
      "metadata": {
        "id": "C_C9sbN7l2yC"
      }
    },
    {
      "cell_type": "code",
      "source": [
        "class Vector:\n",
        "    def __init__(self, x, y):\n",
        "        self.x = x\n",
        "        self.y = y\n",
        "\n",
        "    def __add__(self, other):\n",
        "        return Vector(self.x + other.x, self.y + other.y)\n",
        "\n",
        "    def __str__(self):\n",
        "        return f\"({self.x}, {self.y})\"\n",
        "\n",
        "v1 = Vector(1, 2)\n",
        "v2 = Vector(3, 4)\n",
        "print(v1 + v2)"
      ],
      "metadata": {
        "colab": {
          "base_uri": "https://localhost:8080/"
        },
        "id": "24t6v_xVl5oJ",
        "outputId": "7c5d2287-0780-451a-d285-eb3e50b4eb44"
      },
      "execution_count": 3,
      "outputs": [
        {
          "output_type": "stream",
          "name": "stdout",
          "text": [
            "(4, 6)\n"
          ]
        }
      ]
    },
    {
      "cell_type": "code",
      "source": [],
      "metadata": {
        "id": "QlpWRzW-l8g5"
      },
      "execution_count": null,
      "outputs": []
    },
    {
      "cell_type": "markdown",
      "source": [
        "11. Create a class Person with attributes name and age. Add a method greet() that prints \"Hello, my name is {name} and I am {age} years old.\"\n"
      ],
      "metadata": {
        "id": "cx-mfogYl-Jg"
      }
    },
    {
      "cell_type": "code",
      "source": [
        "class Person:\n",
        "    def __init__(self, name, age):\n",
        "        self.name = name\n",
        "        self.age = age\n",
        "\n",
        "    def greet(self):\n",
        "        print(f\"Hello, my name is {self.name} and I am {self.age} years old.\")\n",
        "\n",
        "p = Person(\"samim\", 26)\n",
        "p.greet()\n"
      ],
      "metadata": {
        "colab": {
          "base_uri": "https://localhost:8080/"
        },
        "id": "tgezkX6WmFbo",
        "outputId": "d77c6764-5782-420a-d3f8-2fa9ccd13434"
      },
      "execution_count": 5,
      "outputs": [
        {
          "output_type": "stream",
          "name": "stdout",
          "text": [
            "Hello, my name is samim and I am 26 years old.\n"
          ]
        }
      ]
    },
    {
      "cell_type": "code",
      "source": [],
      "metadata": {
        "id": "fkok-JtxmR25"
      },
      "execution_count": null,
      "outputs": []
    },
    {
      "cell_type": "markdown",
      "source": [
        "12. Implement a class Student with attributes name and grades. Create a method average_grade() to compute the average of the grades.\n"
      ],
      "metadata": {
        "id": "HVSHS3eumXsJ"
      }
    },
    {
      "cell_type": "code",
      "source": [
        "class Student:\n",
        "    def __init__(self, name, grades):\n",
        "        self.name = name\n",
        "        self.grades = grades\n",
        "\n",
        "    def average_grade(self):\n",
        "        return sum(self.grades) / len(self.grades)\n",
        "\n",
        "s = Student(\"Bob\", [80, 90, 70])\n",
        "print(s.average_grade())\n"
      ],
      "metadata": {
        "colab": {
          "base_uri": "https://localhost:8080/"
        },
        "id": "u7SBLk_YmbaX",
        "outputId": "7b2a50af-ca28-4999-e47c-270a7237e6c8"
      },
      "execution_count": 6,
      "outputs": [
        {
          "output_type": "stream",
          "name": "stdout",
          "text": [
            "80.0\n"
          ]
        }
      ]
    },
    {
      "cell_type": "code",
      "source": [],
      "metadata": {
        "id": "bDrUtwZUmehH"
      },
      "execution_count": null,
      "outputs": []
    },
    {
      "cell_type": "markdown",
      "source": [
        "13. Create a class Rectangle with methods set_dimensions() to set the dimensions and area() to calculate the area.\n"
      ],
      "metadata": {
        "id": "2TGqJyYlmgHm"
      }
    },
    {
      "cell_type": "code",
      "source": [
        "class Rectangle:\n",
        "    def set_dimensions(self, width, height):\n",
        "        self.width = width\n",
        "        self.height = height\n",
        "\n",
        "    def area(self):\n",
        "        return self.width * self.height\n",
        "\n",
        "r = Rectangle()\n",
        "r.set_dimensions(5, 3)\n",
        "print(r.area())"
      ],
      "metadata": {
        "colab": {
          "base_uri": "https://localhost:8080/"
        },
        "id": "sma3oWnpmjv-",
        "outputId": "6b207671-76aa-4633-9cb5-b37be0c3176b"
      },
      "execution_count": 7,
      "outputs": [
        {
          "output_type": "stream",
          "name": "stdout",
          "text": [
            "15\n"
          ]
        }
      ]
    },
    {
      "cell_type": "code",
      "source": [],
      "metadata": {
        "id": "XVOZqXSBmmku"
      },
      "execution_count": null,
      "outputs": []
    },
    {
      "cell_type": "markdown",
      "source": [
        "14. Create a class Employee with a method calculate_salary() that computes the salary based on hours worked and hourly rate. Create a derived class Manager that adds a bonus to the salary.\n"
      ],
      "metadata": {
        "id": "B9MN8Ki9mnmm"
      }
    },
    {
      "cell_type": "code",
      "source": [
        "class Employee:\n",
        "    def calculate_salary(self, hours, rate):\n",
        "        return hours * rate\n",
        "\n",
        "class Manager(Employee):\n",
        "    def calculate_salary(self, hours, rate, bonus):\n",
        "        base = super().calculate_salary(hours, rate)\n",
        "        return base + bonus\n",
        "\n",
        "m = Manager()\n",
        "print(m.calculate_salary(40, 50, 1000))"
      ],
      "metadata": {
        "colab": {
          "base_uri": "https://localhost:8080/"
        },
        "id": "HjQetoiHmque",
        "outputId": "9cb211e0-cad0-45d4-d570-1aece48785a1"
      },
      "execution_count": 8,
      "outputs": [
        {
          "output_type": "stream",
          "name": "stdout",
          "text": [
            "3000\n"
          ]
        }
      ]
    },
    {
      "cell_type": "code",
      "source": [],
      "metadata": {
        "id": "zolqCyZhmt6e"
      },
      "execution_count": null,
      "outputs": []
    },
    {
      "cell_type": "markdown",
      "source": [
        "15. Create a class Product with attributes name, price, and quantity. Implement a method total_price() that calculates the total price of the product\n"
      ],
      "metadata": {
        "id": "W09_CIVAmw7N"
      }
    },
    {
      "cell_type": "code",
      "source": [
        "class Product:\n",
        "    def __init__(self, name, price, quantity):\n",
        "        self.name = name\n",
        "        self.price = price\n",
        "        self.quantity = quantity\n",
        "\n",
        "    def total_price(self):\n",
        "        return self.price * self.quantity\n",
        "\n",
        "p = Product(\"Pen\", 10, 5)\n",
        "print(p.total_price())"
      ],
      "metadata": {
        "colab": {
          "base_uri": "https://localhost:8080/"
        },
        "id": "E1lpSlXkmz-1",
        "outputId": "83b87372-5790-4734-f583-719f9ea09039"
      },
      "execution_count": 9,
      "outputs": [
        {
          "output_type": "stream",
          "name": "stdout",
          "text": [
            "50\n"
          ]
        }
      ]
    },
    {
      "cell_type": "code",
      "source": [],
      "metadata": {
        "id": "sNHy7pGBm2rd"
      },
      "execution_count": null,
      "outputs": []
    },
    {
      "cell_type": "markdown",
      "source": [
        "16. Create a class Animal with an abstract method sound(). Create two derived classes Cow and Sheep that implement the sound() method.\n"
      ],
      "metadata": {
        "id": "Xh3kILUCm4zV"
      }
    },
    {
      "cell_type": "code",
      "source": [
        "from abc import ABC, abstractmethod\n",
        "\n",
        "class Animal(ABC):\n",
        "    @abstractmethod\n",
        "    def sound(self):\n",
        "        pass\n",
        "\n",
        "class Cow(Animal):\n",
        "    def sound(self):\n",
        "        print(\"Moo\")\n",
        "\n",
        "class Sheep(Animal):\n",
        "    def sound(self):\n",
        "        print(\"Baa\")\n",
        "\n",
        "Cow().sound()\n",
        "Sheep().sound()"
      ],
      "metadata": {
        "colab": {
          "base_uri": "https://localhost:8080/"
        },
        "id": "h4YwEo7Zm8jm",
        "outputId": "a51dce65-6443-44fe-c75f-a748759d0e4a"
      },
      "execution_count": 10,
      "outputs": [
        {
          "output_type": "stream",
          "name": "stdout",
          "text": [
            "Moo\n",
            "Baa\n"
          ]
        }
      ]
    },
    {
      "cell_type": "code",
      "source": [],
      "metadata": {
        "id": "SoFKFXWNm_p1"
      },
      "execution_count": null,
      "outputs": []
    },
    {
      "cell_type": "markdown",
      "source": [
        "17. Create a class Book with attributes title, author, and year_published. Add a method get_book_info() that returns a formatted string with the book's details.\n"
      ],
      "metadata": {
        "id": "AjFlOIifnETM"
      }
    },
    {
      "cell_type": "code",
      "source": [
        "class Book:\n",
        "    def __init__(self, title, author, year_published):\n",
        "        self.title = title\n",
        "        self.author = author\n",
        "        self.year_published = year_published\n",
        "\n",
        "    def get_book_info(self):\n",
        "        return f\"{self.title} by {self.author}, published in {self.year_published}\"\n",
        "\n",
        "b = Book(\"1984\", \"George Orwell\", 1949)\n",
        "print(b.get_book_info())"
      ],
      "metadata": {
        "colab": {
          "base_uri": "https://localhost:8080/"
        },
        "id": "r1vUwYOWnFX3",
        "outputId": "2b26bfd1-1578-4d2b-e98e-547e983a7816"
      },
      "execution_count": 11,
      "outputs": [
        {
          "output_type": "stream",
          "name": "stdout",
          "text": [
            "1984 by George Orwell, published in 1949\n"
          ]
        }
      ]
    },
    {
      "cell_type": "code",
      "source": [],
      "metadata": {
        "id": "MI9FkRmwnI-s"
      },
      "execution_count": null,
      "outputs": []
    },
    {
      "cell_type": "markdown",
      "source": [
        "18. Create a class House with attributes address and price. Create a derived class Mansion that adds an attribute number_of_rooms."
      ],
      "metadata": {
        "id": "0wmBr70MnLaa"
      }
    },
    {
      "cell_type": "code",
      "source": [
        "class House:\n",
        "    def __init__(self, address, price):\n",
        "        self.address = address\n",
        "        self.price = price\n",
        "\n",
        "class Mansion(House):\n",
        "    def __init__(self, address, price, number_of_rooms):\n",
        "        super().__init__(address, price)\n",
        "        self.number_of_rooms = number_of_rooms\n",
        "\n",
        "m = Mansion(\"Sector116,Noida\", 7000000, 5)\n",
        "print(m.address, m.price, m.number_of_rooms)"
      ],
      "metadata": {
        "colab": {
          "base_uri": "https://localhost:8080/"
        },
        "id": "HgCtEdOTnOSG",
        "outputId": "e9c57e82-22f2-41f4-ab69-1190051edee1"
      },
      "execution_count": 12,
      "outputs": [
        {
          "output_type": "stream",
          "name": "stdout",
          "text": [
            "Sector116,Noida 7000000 5\n"
          ]
        }
      ]
    },
    {
      "cell_type": "code",
      "source": [],
      "metadata": {
        "id": "zCCuWy90nR6E"
      },
      "execution_count": null,
      "outputs": []
    }
  ]
}